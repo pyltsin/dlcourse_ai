{
 "cells": [
  {
   "cell_type": "markdown",
   "metadata": {},
   "source": [
    "# Задание 2.1 - Нейронные сети\n",
    "\n",
    "В этом задании вы реализуете и натренируете настоящую нейроную сеть своими руками!\n",
    "\n",
    "В некотором смысле это будет расширением прошлого задания - нам нужно просто составить несколько линейных классификаторов вместе!\n",
    "\n",
    "<img src=\"https://i.redd.it/n9fgba8b0qr01.png\" alt=\"Stack_more_layers\" width=\"400px\"/>"
   ]
  },
  {
   "cell_type": "code",
   "execution_count": 1,
   "metadata": {},
   "outputs": [],
   "source": [
    "import numpy as np\n",
    "import matplotlib.pyplot as plt\n",
    "\n",
    "%matplotlib inline\n",
    "\n",
    "%load_ext autoreload\n",
    "%autoreload 2"
   ]
  },
  {
   "cell_type": "code",
   "execution_count": 2,
   "metadata": {},
   "outputs": [],
   "source": [
    "from dataset import load_svhn, random_split_train_val\n",
    "from gradient_check import check_layer_gradient, check_layer_param_gradient, check_model_gradient\n",
    "from layers import FullyConnectedLayer, ReLULayer\n",
    "from model import TwoLayerNet\n",
    "from trainer import Trainer, Dataset\n",
    "from optim import SGD, MomentumSGD\n",
    "from metrics import multiclass_accuracy"
   ]
  },
  {
   "cell_type": "markdown",
   "metadata": {},
   "source": [
    "# Загружаем данные\n",
    "\n",
    "И разделяем их на training и validation."
   ]
  },
  {
   "cell_type": "code",
   "execution_count": 3,
   "metadata": {},
   "outputs": [],
   "source": [
    "def prepare_for_neural_network(train_X, test_X):\n",
    "    train_flat = train_X.reshape(train_X.shape[0], -1).astype(np.float) / 255.0\n",
    "    test_flat = test_X.reshape(test_X.shape[0], -1).astype(np.float) / 255.0\n",
    "    \n",
    "    # Subtract mean\n",
    "    mean_image = np.mean(train_flat, axis = 0)\n",
    "    train_flat -= mean_image\n",
    "    test_flat -= mean_image\n",
    "    \n",
    "    return train_flat, test_flat\n",
    "    \n",
    "train_X, train_y, test_X, test_y = load_svhn(\"data\", max_train=10000, max_test=1000)    \n",
    "train_X, test_X = prepare_for_neural_network(train_X, test_X)\n",
    "# Split train into train and val\n",
    "train_X, train_y, val_X, val_y = random_split_train_val(train_X, train_y, num_val = 1000)"
   ]
  },
  {
   "cell_type": "markdown",
   "metadata": {},
   "source": [
    "# Как всегда, начинаем с кирпичиков\n",
    "\n",
    "Мы будем реализовывать необходимые нам слои по очереди. Каждый слой должен реализовать:\n",
    "- прямой проход (forward pass), который генерирует выход слоя по входу и запоминает необходимые данные\n",
    "- обратный проход (backward pass), который получает градиент по выходу слоя и вычисляет градиент по входу и по параметрам\n",
    "\n",
    "Начнем с ReLU, у которого параметров нет."
   ]
  },
  {
   "cell_type": "code",
   "execution_count": 4,
   "metadata": {
    "scrolled": false
   },
   "outputs": [
    {
     "name": "stdout",
     "output_type": "stream",
     "text": [
      "Gradient check passed!\n"
     ]
    }
   ],
   "source": [
    "# TODO: Implement ReLULayer layer in layers.py\n",
    "# Note: you'll need to copy implementation of the gradient_check function from the previous assignment\n",
    "\n",
    "X = np.array([[1,-2,3],\n",
    "              [-1, 2, 0.1]\n",
    "              ])\n",
    "\n",
    "assert check_layer_gradient(ReLULayer(), X)"
   ]
  },
  {
   "cell_type": "markdown",
   "metadata": {},
   "source": [
    "А теперь реализуем полносвязный слой (fully connected layer), у которого будет два массива параметров: W (weights) и B (bias).\n",
    "\n",
    "Все параметры наши слои будут хранить через специальный класс `Param`, в котором будут храниться значения параметров и градиенты этих параметров, вычисляемые во время обратного прохода.\n",
    "\n",
    "Это даст возможность аккумулировать (суммировать) градиенты из разных частей функции потерь, например, из cross-entropy loss и regularization loss."
   ]
  },
  {
   "cell_type": "code",
   "execution_count": 5,
   "metadata": {},
   "outputs": [
    {
     "data": {
      "text/plain": [
       "array([1., 2., 4.])"
      ]
     },
     "execution_count": 5,
     "metadata": {},
     "output_type": "execute_result"
    }
   ],
   "source": [
    "np.mean([[1,2,4],[1,2,4]], axis=0)"
   ]
  },
  {
   "cell_type": "code",
   "execution_count": 6,
   "metadata": {},
   "outputs": [
    {
     "name": "stdout",
     "output_type": "stream",
     "text": [
      "Gradient check passed!\n",
      "Gradient check passed!\n",
      "Gradient check passed!\n"
     ]
    }
   ],
   "source": [
    "# TODO: Implement FullyConnected layer forward and backward methods\n",
    "assert check_layer_gradient(FullyConnectedLayer(3, 4), X)\n",
    "# TODO: Implement storing gradients for W and B\n",
    "assert check_layer_param_gradient(FullyConnectedLayer(3, 4), X, 'W')\n",
    "assert check_layer_param_gradient(FullyConnectedLayer(3, 4), X, 'B')"
   ]
  },
  {
   "cell_type": "markdown",
   "metadata": {},
   "source": [
    "## Создаем нейронную сеть\n",
    "\n",
    "Теперь мы реализуем простейшую нейронную сеть с двумя полносвязным слоями и нелинейностью ReLU. Реализуйте функцию `compute_loss_and_gradients`, она должна запустить прямой и обратный проход через оба слоя для вычисления градиентов."
   ]
  },
  {
   "cell_type": "code",
   "execution_count": 7,
   "metadata": {},
   "outputs": [
    {
     "data": {
      "text/plain": [
       "array([0, 1, 2, 3, 4, 5, 6, 7, 8, 9], dtype=uint8)"
      ]
     },
     "execution_count": 7,
     "metadata": {},
     "output_type": "execute_result"
    }
   ],
   "source": [
    "np.unique(train_y)"
   ]
  },
  {
   "cell_type": "code",
   "execution_count": 8,
   "metadata": {},
   "outputs": [
    {
     "name": "stdout",
     "output_type": "stream",
     "text": [
      "Checking gradient for 0_W\n",
      "Gradient check passed!\n",
      "Checking gradient for 0_B\n",
      "Gradient check passed!\n",
      "Checking gradient for 2_W\n",
      "Gradient check passed!\n",
      "Checking gradient for 2_B\n",
      "Gradient check passed!\n"
     ]
    },
    {
     "data": {
      "text/plain": [
       "True"
      ]
     },
     "execution_count": 8,
     "metadata": {},
     "output_type": "execute_result"
    }
   ],
   "source": [
    "# TODO: In model.py, implement compute_loss_and_gradients function\n",
    "model = TwoLayerNet(3, 3072, 10, reg = 0)\n",
    "loss = model.compute_loss_and_gradients(train_X[:2], train_y[:2])\n",
    "\n",
    "# TODO Now implement backward pass and aggregate all of the params\n",
    "check_model_gradient(model, train_X[:2], train_y[:2])"
   ]
  },
  {
   "cell_type": "markdown",
   "metadata": {},
   "source": [
    "Теперь добавьте к модели регуляризацию - она должна прибавляться к loss и делать свой вклад в градиенты."
   ]
  },
  {
   "cell_type": "code",
   "execution_count": 9,
   "metadata": {},
   "outputs": [
    {
     "name": "stdout",
     "output_type": "stream",
     "text": [
      "Checking gradient for 0_W\n",
      "Gradient check passed!\n",
      "Checking gradient for 0_B\n",
      "Gradient check passed!\n",
      "Checking gradient for 2_W\n",
      "Gradient check passed!\n",
      "Checking gradient for 2_B\n",
      "Gradient check passed!\n"
     ]
    },
    {
     "data": {
      "text/plain": [
       "True"
      ]
     },
     "execution_count": 9,
     "metadata": {},
     "output_type": "execute_result"
    }
   ],
   "source": [
    "# TODO Now implement l2 regularization in the forward and backward pass\n",
    "model_with_reg = TwoLayerNet(3, 3072, 10, reg = 1e1)\n",
    "loss_with_reg = model_with_reg.compute_loss_and_gradients(train_X[:2], train_y[:2])\n",
    "assert loss_with_reg > loss and not np.isclose(loss_with_reg, loss), \\\n",
    "    \"Loss with regularization (%2.4f) should be higher than without it (%2.4f)!\" % (loss, loss_with_reg)\n",
    "\n",
    "check_model_gradient(model_with_reg, train_X[:2], train_y[:2])"
   ]
  },
  {
   "cell_type": "markdown",
   "metadata": {},
   "source": [
    "Также реализуем функцию предсказания (вычисления значения) модели на новых данных.\n",
    "\n",
    "Какое значение точности мы ожидаем увидеть до начала тренировки?"
   ]
  },
  {
   "cell_type": "code",
   "execution_count": 10,
   "metadata": {},
   "outputs": [],
   "source": [
    "import numpy as np"
   ]
  },
  {
   "cell_type": "code",
   "execution_count": 11,
   "metadata": {},
   "outputs": [
    {
     "data": {
      "text/plain": [
       "0.1"
      ]
     },
     "execution_count": 11,
     "metadata": {},
     "output_type": "execute_result"
    }
   ],
   "source": [
    "# Finally, implement predict function!\n",
    "\n",
    "# TODO: Implement predict function\n",
    "# What would be the value we expect?\n",
    "multiclass_accuracy(model_with_reg.predict(train_X[:30]), train_y[:30]) "
   ]
  },
  {
   "cell_type": "markdown",
   "metadata": {},
   "source": [
    "# Допишем код для процесса тренировки"
   ]
  },
  {
   "cell_type": "code",
   "execution_count": 12,
   "metadata": {},
   "outputs": [
    {
     "name": "stdout",
     "output_type": "stream",
     "text": [
      "Loss: 2.219541, Train accuracy: 0.192333, val accuracy: 0.195000\n",
      "Loss: 2.221784, Train accuracy: 0.192333, val accuracy: 0.195000\n",
      "Loss: 2.276794, Train accuracy: 0.192333, val accuracy: 0.195000\n",
      "Loss: 2.276934, Train accuracy: 0.192333, val accuracy: 0.195000\n",
      "Loss: 2.264377, Train accuracy: 0.192333, val accuracy: 0.195000\n",
      "Loss: 2.250204, Train accuracy: 0.192333, val accuracy: 0.195000\n",
      "Loss: 2.171615, Train accuracy: 0.192333, val accuracy: 0.195000\n",
      "Loss: 2.125317, Train accuracy: 0.192333, val accuracy: 0.195000\n",
      "Loss: 2.300583, Train accuracy: 0.201222, val accuracy: 0.204000\n",
      "Loss: 2.295184, Train accuracy: 0.230556, val accuracy: 0.228000\n",
      "Loss: 1.988035, Train accuracy: 0.252667, val accuracy: 0.247000\n",
      "Loss: 1.991691, Train accuracy: 0.273889, val accuracy: 0.262000\n",
      "Loss: 2.088079, Train accuracy: 0.297111, val accuracy: 0.287000\n",
      "Loss: 1.996838, Train accuracy: 0.311444, val accuracy: 0.305000\n",
      "Loss: 1.932021, Train accuracy: 0.331667, val accuracy: 0.320000\n",
      "Loss: 2.020292, Train accuracy: 0.357333, val accuracy: 0.337000\n",
      "Loss: 1.878679, Train accuracy: 0.385667, val accuracy: 0.365000\n",
      "Loss: 1.683989, Train accuracy: 0.413556, val accuracy: 0.405000\n",
      "Loss: 1.933125, Train accuracy: 0.436778, val accuracy: 0.426000\n",
      "Loss: 1.866560, Train accuracy: 0.461556, val accuracy: 0.445000\n"
     ]
    }
   ],
   "source": [
    "model = TwoLayerNet(100, 3072, 10, reg = 0.001)\n",
    "dataset = Dataset(train_X, train_y, val_X, val_y)\n",
    "trainer = Trainer(model, dataset, SGD(), learning_rate=1e-2)\n",
    "\n",
    "# TODO Implement missing pieces in Trainer.fit function\n",
    "# You should expect loss to go down and train and val accuracy go up for every epoch\n",
    "loss_history, train_history, val_history = trainer.fit()"
   ]
  },
  {
   "cell_type": "code",
   "execution_count": 13,
   "metadata": {},
   "outputs": [
    {
     "data": {
      "text/plain": [
       "[<matplotlib.lines.Line2D at 0x259b78e1d30>]"
      ]
     },
     "execution_count": 13,
     "metadata": {},
     "output_type": "execute_result"
    },
    {
     "data": {
      "image/png": "[encoded data removed]",
      "text/plain": [
       "<Figure size 432x288 with 1 Axes>"
      ]
     },
     "metadata": {
      "needs_background": "light"
     },
     "output_type": "display_data"
    }
   ],
   "source": [
    "plt.plot(train_history)\n",
    "plt.plot(val_history)"
   ]
  },
  {
   "cell_type": "code",
   "execution_count": 14,
   "metadata": {},
   "outputs": [],
   "source": [
    "class Layer:\n",
    "    def forward(self, x):\n",
    "        result = ... # промежуточные вычисления\n",
    "        self.x = x # сохраняем значения, которые нам\n",
    "                   # понадобятся при обратном проходе\n",
    "        return result\n",
    "    \n",
    "    def backward(self, grad):\n",
    "        dx = ... # используем сохраненные значения, чтобы \n",
    "        dw = ... # вычислить градиент по x и по w\n",
    "        self.w.grad += dw # аккумулируем градиент dw\n",
    "        return dx"
   ]
  },
  {
   "cell_type": "markdown",
   "metadata": {},
   "source": [
    "# Улучшаем процесс тренировки\n",
    "\n",
    "Мы реализуем несколько ключевых оптимизаций, необходимых для тренировки современных нейросетей."
   ]
  },
  {
   "cell_type": "markdown",
   "metadata": {},
   "source": [
    "## Уменьшение скорости обучения (learning rate decay)\n",
    "\n",
    "Одна из необходимых оптимизаций во время тренировки нейронных сетей - постепенное уменьшение скорости обучения по мере тренировки.\n",
    "\n",
    "Один из стандартных методов - уменьшение скорости обучения (learning rate) каждые N эпох на коэффициент d (часто называемый decay). Значения N и d, как всегда, являются гиперпараметрами и должны подбираться на основе эффективности на проверочных данных (validation data). \n",
    "\n",
    "В нашем случае N будет равным 1."
   ]
  },
  {
   "cell_type": "code",
   "execution_count": 15,
   "metadata": {},
   "outputs": [
    {
     "name": "stdout",
     "output_type": "stream",
     "text": [
      "Loss: 2.231626, Train accuracy: 0.192333, val accuracy: 0.195000\n",
      "Loss: 2.243090, Train accuracy: 0.192333, val accuracy: 0.195000\n",
      "Loss: 2.210401, Train accuracy: 0.192333, val accuracy: 0.195000\n",
      "Loss: 2.277828, Train accuracy: 0.192333, val accuracy: 0.195000\n",
      "Loss: 2.289473, Train accuracy: 0.192333, val accuracy: 0.195000\n",
      "Loss: 2.306999, Train accuracy: 0.192333, val accuracy: 0.195000\n",
      "Loss: 2.208309, Train accuracy: 0.192333, val accuracy: 0.195000\n",
      "Loss: 2.253258, Train accuracy: 0.192333, val accuracy: 0.195000\n",
      "Loss: 1.749870, Train accuracy: 0.192556, val accuracy: 0.196000\n",
      "Loss: 2.433611, Train accuracy: 0.218556, val accuracy: 0.220000\n",
      "Loss: 2.050872, Train accuracy: 0.240778, val accuracy: 0.234000\n",
      "Loss: 2.244493, Train accuracy: 0.256000, val accuracy: 0.246000\n",
      "Loss: 1.947075, Train accuracy: 0.270778, val accuracy: 0.262000\n",
      "Loss: 2.211861, Train accuracy: 0.290889, val accuracy: 0.279000\n",
      "Loss: 2.220966, Train accuracy: 0.315667, val accuracy: 0.298000\n",
      "Loss: 1.524870, Train accuracy: 0.338444, val accuracy: 0.316000\n",
      "Loss: 1.869999, Train accuracy: 0.361333, val accuracy: 0.347000\n",
      "Loss: 1.897322, Train accuracy: 0.387444, val accuracy: 0.377000\n",
      "Loss: 1.586753, Train accuracy: 0.412667, val accuracy: 0.401000\n",
      "Loss: 1.940476, Train accuracy: 0.431000, val accuracy: 0.420000\n"
     ]
    }
   ],
   "source": [
    "# TODO Implement learning rate decay inside Trainer.fit method\n",
    "# Decay should happen once per epoch\n",
    "\n",
    "model = TwoLayerNet(100, 3072, 10, reg = 0.001)\n",
    "dataset = Dataset(train_X, train_y, val_X, val_y)\n",
    "trainer = Trainer(model, dataset, SGD(), learning_rate_decay=0.99, learning_rate=1e-2)\n",
    "\n",
    "initial_learning_rate = trainer.learning_rate\n",
    "loss_history, train_history, val_history = trainer.fit()\n",
    "\n",
    "assert trainer.learning_rate < initial_learning_rate, \"Learning rate should've been reduced\"\n",
    "assert trainer.learning_rate > 0.5*initial_learning_rate, \"Learning rate shouldn'tve been reduced that much!\""
   ]
  },
  {
   "cell_type": "markdown",
   "metadata": {},
   "source": [
    "# Накопление импульса (Momentum SGD)\n",
    "\n",
    "Другой большой класс оптимизаций - использование более эффективных методов градиентного спуска. Мы реализуем один из них - накопление импульса (Momentum SGD).\n",
    "\n",
    "Этот метод хранит скорость движения, использует градиент для ее изменения на каждом шаге, и изменяет веса пропорционально значению скорости.\n",
    "(Физическая аналогия: Вместо скорости градиенты теперь будут задавать ускорение, но будет присутствовать сила трения.)\n",
    "\n",
    "```\n",
    "velocity = momentum * velocity - learning_rate * gradient \n",
    "w = w + velocity\n",
    "```\n",
    "\n",
    "`momentum` здесь коэффициент затухания, который тоже является гиперпараметром (к счастью, для него часто есть хорошее значение по умолчанию, типичный диапазон -- 0.8-0.99).\n",
    "\n",
    "Несколько полезных ссылок, где метод разбирается более подробно:  \n",
    "http://cs231n.github.io/neural-networks-3/#sgd  \n",
    "https://distill.pub/2017/momentum/"
   ]
  },
  {
   "cell_type": "code",
   "execution_count": 16,
   "metadata": {},
   "outputs": [
    {
     "name": "stdout",
     "output_type": "stream",
     "text": [
      "Loss: 2.290097, Train accuracy: 0.192333, val accuracy: 0.195000\n",
      "Loss: 2.227121, Train accuracy: 0.192333, val accuracy: 0.195000\n",
      "Loss: 2.284150, Train accuracy: 0.192333, val accuracy: 0.195000\n",
      "Loss: 2.236791, Train accuracy: 0.192333, val accuracy: 0.195000\n",
      "Loss: 2.234799, Train accuracy: 0.192333, val accuracy: 0.195000\n",
      "Loss: 2.261199, Train accuracy: 0.192333, val accuracy: 0.195000\n",
      "Loss: 2.258613, Train accuracy: 0.192333, val accuracy: 0.195000\n",
      "Loss: 2.272947, Train accuracy: 0.192333, val accuracy: 0.195000\n",
      "Loss: 2.150529, Train accuracy: 0.192444, val accuracy: 0.195000\n",
      "Loss: 2.077868, Train accuracy: 0.216111, val accuracy: 0.222000\n",
      "Loss: 2.079900, Train accuracy: 0.244111, val accuracy: 0.231000\n",
      "Loss: 1.973166, Train accuracy: 0.261778, val accuracy: 0.252000\n",
      "Loss: 1.950173, Train accuracy: 0.277000, val accuracy: 0.265000\n",
      "Loss: 2.121865, Train accuracy: 0.299778, val accuracy: 0.289000\n",
      "Loss: 2.169537, Train accuracy: 0.325333, val accuracy: 0.311000\n",
      "Loss: 1.992317, Train accuracy: 0.342333, val accuracy: 0.335000\n",
      "Loss: 1.665766, Train accuracy: 0.367556, val accuracy: 0.356000\n",
      "Loss: 1.723219, Train accuracy: 0.389889, val accuracy: 0.387000\n",
      "Loss: 2.097673, Train accuracy: 0.411556, val accuracy: 0.401000\n",
      "Loss: 1.606224, Train accuracy: 0.441222, val accuracy: 0.426000\n"
     ]
    }
   ],
   "source": [
    "# TODO: Implement MomentumSGD.update function in optim.py\n",
    "\n",
    "model = TwoLayerNet(100, 3072, 10, reg = 1e-3)\n",
    "dataset = Dataset(train_X, train_y, val_X, val_y)\n",
    "trainer = Trainer(model, dataset, MomentumSGD(), learning_rate=1e-3, learning_rate_decay=0.99)\n",
    "\n",
    "# You should see even better results than before!\n",
    "loss_history, train_history, val_history = trainer.fit()"
   ]
  },
  {
   "cell_type": "markdown",
   "metadata": {},
   "source": [
    "# Ну что, давайте уже тренировать сеть!"
   ]
  },
  {
   "cell_type": "markdown",
   "metadata": {},
   "source": [
    "## Последний тест - переобучимся (overfit) на маленьком наборе данных\n",
    "\n",
    "Хороший способ проверить, все ли реализовано корректно - переобучить сеть на маленьком наборе данных.  \n",
    "Наша модель обладает достаточной мощностью, чтобы приблизить маленький набор данных идеально, поэтому мы ожидаем, что на нем мы быстро дойдем до 100% точности на тренировочном наборе. \n",
    "\n",
    "Если этого не происходит, то где-то была допущена ошибка!"
   ]
  },
  {
   "cell_type": "code",
   "execution_count": 17,
   "metadata": {},
   "outputs": [
    {
     "name": "stdout",
     "output_type": "stream",
     "text": [
      "Loss: 2.323707, Train accuracy: 0.200000, val accuracy: 0.000000\n",
      "Loss: 2.297195, Train accuracy: 0.200000, val accuracy: 0.000000\n",
      "Loss: 2.289104, Train accuracy: 0.200000, val accuracy: 0.000000\n",
      "Loss: 2.320150, Train accuracy: 0.333333, val accuracy: 0.000000\n",
      "Loss: 2.288615, Train accuracy: 0.266667, val accuracy: 0.000000\n",
      "Loss: 2.247816, Train accuracy: 0.266667, val accuracy: 0.133333\n",
      "Loss: 2.239063, Train accuracy: 0.333333, val accuracy: 0.066667\n",
      "Loss: 2.334750, Train accuracy: 0.400000, val accuracy: 0.066667\n",
      "Loss: 2.267164, Train accuracy: 0.333333, val accuracy: 0.066667\n",
      "Loss: 2.303590, Train accuracy: 0.400000, val accuracy: 0.066667\n",
      "Loss: 2.274573, Train accuracy: 0.400000, val accuracy: 0.066667\n",
      "Loss: 2.211713, Train accuracy: 0.400000, val accuracy: 0.066667\n",
      "Loss: 2.220136, Train accuracy: 0.400000, val accuracy: 0.066667\n",
      "Loss: 2.137874, Train accuracy: 0.400000, val accuracy: 0.066667\n",
      "Loss: 1.949351, Train accuracy: 0.466667, val accuracy: 0.066667\n",
      "Loss: 2.086446, Train accuracy: 0.600000, val accuracy: 0.000000\n",
      "Loss: 1.887256, Train accuracy: 0.466667, val accuracy: 0.066667\n",
      "Loss: 1.731281, Train accuracy: 0.533333, val accuracy: 0.066667\n",
      "Loss: 1.798992, Train accuracy: 0.533333, val accuracy: 0.000000\n",
      "Loss: 2.096521, Train accuracy: 0.666667, val accuracy: 0.000000\n",
      "Loss: 1.538109, Train accuracy: 0.533333, val accuracy: 0.133333\n",
      "Loss: 1.919379, Train accuracy: 0.666667, val accuracy: 0.133333\n",
      "Loss: 1.764073, Train accuracy: 0.666667, val accuracy: 0.133333\n",
      "Loss: 1.344695, Train accuracy: 0.600000, val accuracy: 0.133333\n",
      "Loss: 1.906340, Train accuracy: 0.666667, val accuracy: 0.133333\n",
      "Loss: 1.257127, Train accuracy: 0.666667, val accuracy: 0.133333\n",
      "Loss: 2.100846, Train accuracy: 0.733333, val accuracy: 0.133333\n",
      "Loss: 1.779486, Train accuracy: 0.666667, val accuracy: 0.133333\n",
      "Loss: 0.905685, Train accuracy: 0.666667, val accuracy: 0.133333\n",
      "Loss: 1.580194, Train accuracy: 0.666667, val accuracy: 0.133333\n",
      "Loss: 1.657068, Train accuracy: 0.666667, val accuracy: 0.133333\n",
      "Loss: 2.136358, Train accuracy: 0.733333, val accuracy: 0.133333\n",
      "Loss: 1.322334, Train accuracy: 0.666667, val accuracy: 0.133333\n",
      "Loss: 1.806862, Train accuracy: 0.733333, val accuracy: 0.133333\n",
      "Loss: 1.388907, Train accuracy: 0.733333, val accuracy: 0.133333\n",
      "Loss: 1.625377, Train accuracy: 0.733333, val accuracy: 0.133333\n",
      "Loss: 1.642542, Train accuracy: 0.733333, val accuracy: 0.133333\n",
      "Loss: 2.016294, Train accuracy: 0.733333, val accuracy: 0.133333\n",
      "Loss: 1.215470, Train accuracy: 0.733333, val accuracy: 0.133333\n",
      "Loss: 1.456602, Train accuracy: 0.733333, val accuracy: 0.133333\n",
      "Loss: 1.298517, Train accuracy: 0.733333, val accuracy: 0.133333\n",
      "Loss: 1.421506, Train accuracy: 0.733333, val accuracy: 0.133333\n",
      "Loss: 1.651738, Train accuracy: 0.733333, val accuracy: 0.133333\n",
      "Loss: 1.583655, Train accuracy: 0.733333, val accuracy: 0.133333\n",
      "Loss: 1.001724, Train accuracy: 0.800000, val accuracy: 0.133333\n",
      "Loss: 1.277949, Train accuracy: 0.800000, val accuracy: 0.133333\n",
      "Loss: 1.742081, Train accuracy: 0.800000, val accuracy: 0.133333\n",
      "Loss: 1.458006, Train accuracy: 0.733333, val accuracy: 0.133333\n",
      "Loss: 1.355573, Train accuracy: 0.800000, val accuracy: 0.133333\n",
      "Loss: 1.279308, Train accuracy: 0.800000, val accuracy: 0.133333\n",
      "Loss: 1.182467, Train accuracy: 0.800000, val accuracy: 0.133333\n",
      "Loss: 1.085347, Train accuracy: 0.800000, val accuracy: 0.133333\n",
      "Loss: 1.548204, Train accuracy: 0.800000, val accuracy: 0.133333\n",
      "Loss: 1.220839, Train accuracy: 0.800000, val accuracy: 0.133333\n",
      "Loss: 1.339717, Train accuracy: 0.866667, val accuracy: 0.133333\n",
      "Loss: 1.268225, Train accuracy: 0.866667, val accuracy: 0.133333\n",
      "Loss: 1.212892, Train accuracy: 0.866667, val accuracy: 0.133333\n",
      "Loss: 0.855437, Train accuracy: 0.866667, val accuracy: 0.133333\n",
      "Loss: 1.191913, Train accuracy: 0.866667, val accuracy: 0.133333\n",
      "Loss: 1.911195, Train accuracy: 0.866667, val accuracy: 0.133333\n",
      "Loss: 0.968369, Train accuracy: 0.866667, val accuracy: 0.133333\n",
      "Loss: 1.214734, Train accuracy: 0.866667, val accuracy: 0.133333\n",
      "Loss: 1.130726, Train accuracy: 0.866667, val accuracy: 0.133333\n",
      "Loss: 1.908073, Train accuracy: 0.866667, val accuracy: 0.133333\n",
      "Loss: 1.203469, Train accuracy: 0.866667, val accuracy: 0.133333\n",
      "Loss: 1.165886, Train accuracy: 0.866667, val accuracy: 0.133333\n",
      "Loss: 1.332262, Train accuracy: 0.933333, val accuracy: 0.133333\n",
      "Loss: 1.389171, Train accuracy: 0.933333, val accuracy: 0.133333\n",
      "Loss: 1.177921, Train accuracy: 0.866667, val accuracy: 0.133333\n",
      "Loss: 1.567047, Train accuracy: 0.866667, val accuracy: 0.133333\n",
      "Loss: 1.122922, Train accuracy: 0.866667, val accuracy: 0.133333\n",
      "Loss: 1.305819, Train accuracy: 0.866667, val accuracy: 0.133333\n",
      "Loss: 1.142752, Train accuracy: 0.866667, val accuracy: 0.133333\n",
      "Loss: 1.047420, Train accuracy: 0.866667, val accuracy: 0.133333\n",
      "Loss: 1.081699, Train accuracy: 0.866667, val accuracy: 0.133333\n",
      "Loss: 1.784048, Train accuracy: 0.866667, val accuracy: 0.133333\n",
      "Loss: 1.260235, Train accuracy: 0.933333, val accuracy: 0.133333\n",
      "Loss: 1.140595, Train accuracy: 0.866667, val accuracy: 0.133333\n",
      "Loss: 1.431027, Train accuracy: 0.933333, val accuracy: 0.133333\n",
      "Loss: 1.391825, Train accuracy: 0.866667, val accuracy: 0.133333\n",
      "Loss: 0.936764, Train accuracy: 0.933333, val accuracy: 0.133333\n",
      "Loss: 1.365343, Train accuracy: 0.866667, val accuracy: 0.133333\n",
      "Loss: 1.667419, Train accuracy: 0.866667, val accuracy: 0.133333\n",
      "Loss: 1.446182, Train accuracy: 0.866667, val accuracy: 0.133333\n",
      "Loss: 1.269071, Train accuracy: 0.933333, val accuracy: 0.133333\n",
      "Loss: 1.514186, Train accuracy: 0.933333, val accuracy: 0.133333\n",
      "Loss: 0.878975, Train accuracy: 0.866667, val accuracy: 0.133333\n",
      "Loss: 1.193246, Train accuracy: 0.866667, val accuracy: 0.133333\n",
      "Loss: 1.368717, Train accuracy: 0.866667, val accuracy: 0.133333\n",
      "Loss: 1.091229, Train accuracy: 0.866667, val accuracy: 0.133333\n",
      "Loss: 1.542360, Train accuracy: 0.866667, val accuracy: 0.133333\n",
      "Loss: 1.378757, Train accuracy: 0.933333, val accuracy: 0.133333\n",
      "Loss: 1.105705, Train accuracy: 0.866667, val accuracy: 0.133333\n",
      "Loss: 0.993079, Train accuracy: 0.933333, val accuracy: 0.133333\n",
      "Loss: 1.339850, Train accuracy: 0.866667, val accuracy: 0.133333\n",
      "Loss: 1.367245, Train accuracy: 1.000000, val accuracy: 0.133333\n",
      "Loss: 1.081660, Train accuracy: 0.866667, val accuracy: 0.133333\n",
      "Loss: 1.562042, Train accuracy: 1.000000, val accuracy: 0.133333\n",
      "Loss: 1.708528, Train accuracy: 1.000000, val accuracy: 0.133333\n",
      "Loss: 1.066539, Train accuracy: 1.000000, val accuracy: 0.133333\n",
      "Loss: 1.401349, Train accuracy: 1.000000, val accuracy: 0.133333\n",
      "Loss: 1.541556, Train accuracy: 1.000000, val accuracy: 0.133333\n",
      "Loss: 1.258913, Train accuracy: 1.000000, val accuracy: 0.133333\n",
      "Loss: 1.301030, Train accuracy: 1.000000, val accuracy: 0.133333\n",
      "Loss: 1.163217, Train accuracy: 1.000000, val accuracy: 0.133333\n",
      "Loss: 1.408573, Train accuracy: 1.000000, val accuracy: 0.133333\n",
      "Loss: 1.151039, Train accuracy: 1.000000, val accuracy: 0.133333\n",
      "Loss: 1.215911, Train accuracy: 1.000000, val accuracy: 0.133333\n",
      "Loss: 1.216289, Train accuracy: 1.000000, val accuracy: 0.133333\n",
      "Loss: 1.205096, Train accuracy: 1.000000, val accuracy: 0.133333\n",
      "Loss: 1.323014, Train accuracy: 1.000000, val accuracy: 0.133333\n",
      "Loss: 1.550216, Train accuracy: 1.000000, val accuracy: 0.133333\n",
      "Loss: 1.302749, Train accuracy: 1.000000, val accuracy: 0.133333\n",
      "Loss: 1.543411, Train accuracy: 1.000000, val accuracy: 0.133333\n",
      "Loss: 1.593465, Train accuracy: 1.000000, val accuracy: 0.133333\n",
      "Loss: 1.141371, Train accuracy: 1.000000, val accuracy: 0.133333\n",
      "Loss: 1.359120, Train accuracy: 1.000000, val accuracy: 0.133333\n",
      "Loss: 1.295160, Train accuracy: 1.000000, val accuracy: 0.133333\n",
      "Loss: 1.532033, Train accuracy: 1.000000, val accuracy: 0.133333\n",
      "Loss: 1.102206, Train accuracy: 1.000000, val accuracy: 0.133333\n",
      "Loss: 1.119153, Train accuracy: 1.000000, val accuracy: 0.133333\n",
      "Loss: 1.402595, Train accuracy: 1.000000, val accuracy: 0.133333\n",
      "Loss: 1.281055, Train accuracy: 1.000000, val accuracy: 0.133333\n",
      "Loss: 1.190670, Train accuracy: 1.000000, val accuracy: 0.133333\n",
      "Loss: 1.240334, Train accuracy: 1.000000, val accuracy: 0.133333\n",
      "Loss: 1.395818, Train accuracy: 1.000000, val accuracy: 0.133333\n",
      "Loss: 1.202103, Train accuracy: 1.000000, val accuracy: 0.133333\n",
      "Loss: 1.043180, Train accuracy: 1.000000, val accuracy: 0.133333\n",
      "Loss: 1.145056, Train accuracy: 1.000000, val accuracy: 0.133333\n",
      "Loss: 1.275157, Train accuracy: 1.000000, val accuracy: 0.133333\n",
      "Loss: 1.381966, Train accuracy: 1.000000, val accuracy: 0.133333\n",
      "Loss: 1.371422, Train accuracy: 1.000000, val accuracy: 0.133333\n",
      "Loss: 1.182115, Train accuracy: 1.000000, val accuracy: 0.133333\n",
      "Loss: 1.145165, Train accuracy: 1.000000, val accuracy: 0.133333\n",
      "Loss: 1.237319, Train accuracy: 1.000000, val accuracy: 0.133333\n",
      "Loss: 1.211803, Train accuracy: 1.000000, val accuracy: 0.133333\n",
      "Loss: 1.343416, Train accuracy: 1.000000, val accuracy: 0.133333\n",
      "Loss: 1.409191, Train accuracy: 1.000000, val accuracy: 0.133333\n",
      "Loss: 1.082890, Train accuracy: 1.000000, val accuracy: 0.133333\n",
      "Loss: 1.290882, Train accuracy: 1.000000, val accuracy: 0.133333\n",
      "Loss: 1.255517, Train accuracy: 1.000000, val accuracy: 0.133333\n",
      "Loss: 1.308109, Train accuracy: 1.000000, val accuracy: 0.133333\n",
      "Loss: 1.340096, Train accuracy: 1.000000, val accuracy: 0.133333\n",
      "Loss: 1.235010, Train accuracy: 1.000000, val accuracy: 0.133333\n",
      "Loss: 1.044609, Train accuracy: 1.000000, val accuracy: 0.133333\n",
      "Loss: 1.164893, Train accuracy: 1.000000, val accuracy: 0.133333\n",
      "Loss: 1.200501, Train accuracy: 1.000000, val accuracy: 0.133333\n",
      "Loss: 1.314913, Train accuracy: 1.000000, val accuracy: 0.133333\n",
      "Loss: 1.270100, Train accuracy: 1.000000, val accuracy: 0.133333\n",
      "Loss: 1.202939, Train accuracy: 1.000000, val accuracy: 0.133333\n"
     ]
    }
   ],
   "source": [
    "data_size = 15\n",
    "model = TwoLayerNet(100, 3072, 10, reg = 1e-1)\n",
    "dataset = Dataset(train_X[:data_size], train_y[:data_size], val_X[:data_size], val_y[:data_size])\n",
    "trainer = Trainer(model, dataset, SGD(), learning_rate=1e-1, num_epochs=150, batch_size=5)\n",
    "\n",
    "# You should expect this to reach 1.0 training accuracy \n",
    "loss_history, train_history, val_history = trainer.fit()"
   ]
  },
  {
   "cell_type": "markdown",
   "metadata": {},
   "source": [
    "Теперь найдем гипепараметры, для которых этот процесс сходится быстрее.\n",
    "Если все реализовано корректно, то существуют параметры, при которых процесс сходится в **20** эпох или еще быстрее.\n",
    "Найдите их!"
   ]
  },
  {
   "cell_type": "code",
   "execution_count": 18,
   "metadata": {},
   "outputs": [
    {
     "name": "stdout",
     "output_type": "stream",
     "text": [
      "Loss: 2.316984, Train accuracy: 0.200000, val accuracy: 0.133333\n",
      "Loss: 2.259623, Train accuracy: 0.333333, val accuracy: 0.066667\n",
      "Loss: 2.319109, Train accuracy: 0.400000, val accuracy: 0.000000\n",
      "Loss: 2.079399, Train accuracy: 0.400000, val accuracy: 0.066667\n",
      "Loss: 1.909029, Train accuracy: 0.400000, val accuracy: 0.066667\n",
      "Loss: 2.159986, Train accuracy: 0.266667, val accuracy: 0.000000\n",
      "Loss: 2.122820, Train accuracy: 0.533333, val accuracy: 0.133333\n",
      "Loss: 1.880067, Train accuracy: 0.400000, val accuracy: 0.066667\n",
      "Loss: 1.671303, Train accuracy: 0.600000, val accuracy: 0.133333\n",
      "Loss: 1.280370, Train accuracy: 0.666667, val accuracy: 0.066667\n",
      "Loss: 1.361473, Train accuracy: 0.533333, val accuracy: 0.200000\n",
      "Loss: 1.152975, Train accuracy: 0.666667, val accuracy: 0.133333\n",
      "Loss: 1.528719, Train accuracy: 0.666667, val accuracy: 0.133333\n",
      "Loss: 0.875900, Train accuracy: 0.866667, val accuracy: 0.133333\n",
      "Loss: 1.155923, Train accuracy: 0.933333, val accuracy: 0.133333\n",
      "Loss: 0.300519, Train accuracy: 0.933333, val accuracy: 0.133333\n",
      "Loss: 0.542428, Train accuracy: 0.933333, val accuracy: 0.133333\n",
      "Loss: 0.645094, Train accuracy: 0.933333, val accuracy: 0.133333\n",
      "Loss: 0.206096, Train accuracy: 1.000000, val accuracy: 0.133333\n",
      "Loss: 0.124978, Train accuracy: 1.000000, val accuracy: 0.133333\n"
     ]
    }
   ],
   "source": [
    "# Now, tweak some hyper parameters and make it train to 1.0 accuracy in 20 epochs or less\n",
    "\n",
    "model = TwoLayerNet(100, 3072, 10, reg = 1e-3)\n",
    "dataset = Dataset(train_X[:data_size], train_y[:data_size], val_X[:data_size], val_y[:data_size])\n",
    "# TODO: Change any hyperparamers or optimizators to reach training accuracy in 20 epochs\n",
    "trainer = Trainer(model, dataset, SGD(), learning_rate=0.3, num_epochs=20, batch_size=5)\n",
    "\n",
    "loss_history, train_history, val_history = trainer.fit()"
   ]
  },
  {
   "cell_type": "markdown",
   "metadata": {},
   "source": [
    "# Итак, основное мероприятие!\n",
    "\n",
    "Натренируйте лучшую нейросеть! Можно добавлять и изменять параметры, менять количество нейронов в слоях сети и как угодно экспериментировать. \n",
    "\n",
    "Добейтесь точности лучше **40%** на validation set."
   ]
  },
  {
   "cell_type": "code",
   "execution_count": 34,
   "metadata": {},
   "outputs": [
    {
     "data": {
      "text/plain": [
       "0.2993803913123313"
      ]
     },
     "execution_count": 34,
     "metadata": {},
     "output_type": "execute_result"
    }
   ],
   "source": [
    "0.99**120"
   ]
  },
  {
   "cell_type": "code",
   "execution_count": 36,
   "metadata": {
    "scrolled": true
   },
   "outputs": [
    {
     "name": "stdout",
     "output_type": "stream",
     "text": [
      "Loss: 2.286667, Train accuracy: 0.192333, val accuracy: 0.195000\n",
      "Loss: 2.310865, Train accuracy: 0.192333, val accuracy: 0.195000\n",
      "Loss: 2.079054, Train accuracy: 0.202222, val accuracy: 0.207000\n",
      "Loss: 2.136547, Train accuracy: 0.289556, val accuracy: 0.277000\n",
      "Loss: 1.823366, Train accuracy: 0.358667, val accuracy: 0.347000\n",
      "Loss: 1.674934, Train accuracy: 0.459778, val accuracy: 0.450000\n",
      "Loss: 1.618854, Train accuracy: 0.509000, val accuracy: 0.488000\n",
      "Loss: 1.709639, Train accuracy: 0.571222, val accuracy: 0.545000\n",
      "Loss: 1.442462, Train accuracy: 0.608333, val accuracy: 0.565000\n",
      "Loss: 1.300043, Train accuracy: 0.629556, val accuracy: 0.584000\n",
      "Loss: 1.426998, Train accuracy: 0.679556, val accuracy: 0.627000\n",
      "Loss: 1.294500, Train accuracy: 0.690889, val accuracy: 0.638000\n",
      "Loss: 1.150672, Train accuracy: 0.696000, val accuracy: 0.645000\n",
      "Loss: 1.262987, Train accuracy: 0.707222, val accuracy: 0.659000\n",
      "Loss: 1.529742, Train accuracy: 0.718778, val accuracy: 0.671000\n",
      "Loss: 0.967223, Train accuracy: 0.747222, val accuracy: 0.699000\n",
      "Loss: 0.808251, Train accuracy: 0.738778, val accuracy: 0.702000\n",
      "Loss: 1.241897, Train accuracy: 0.741556, val accuracy: 0.700000\n",
      "Loss: 1.526823, Train accuracy: 0.757556, val accuracy: 0.710000\n",
      "Loss: 1.035251, Train accuracy: 0.766111, val accuracy: 0.713000\n",
      "Loss: 1.055841, Train accuracy: 0.779000, val accuracy: 0.716000\n",
      "Loss: 0.994020, Train accuracy: 0.777111, val accuracy: 0.708000\n",
      "Loss: 1.033126, Train accuracy: 0.794444, val accuracy: 0.723000\n",
      "Loss: 1.072503, Train accuracy: 0.783778, val accuracy: 0.719000\n",
      "Loss: 0.849005, Train accuracy: 0.786000, val accuracy: 0.731000\n",
      "Loss: 0.952271, Train accuracy: 0.807222, val accuracy: 0.731000\n",
      "Loss: 0.942538, Train accuracy: 0.797889, val accuracy: 0.732000\n",
      "Loss: 0.976944, Train accuracy: 0.806556, val accuracy: 0.719000\n",
      "Loss: 0.821463, Train accuracy: 0.825556, val accuracy: 0.728000\n",
      "Loss: 0.918372, Train accuracy: 0.814444, val accuracy: 0.729000\n",
      "Loss: 0.760361, Train accuracy: 0.823111, val accuracy: 0.724000\n",
      "Loss: 0.908453, Train accuracy: 0.829333, val accuracy: 0.733000\n",
      "Loss: 0.868499, Train accuracy: 0.835778, val accuracy: 0.750000\n",
      "Loss: 0.971291, Train accuracy: 0.839778, val accuracy: 0.753000\n",
      "Loss: 0.715579, Train accuracy: 0.845667, val accuracy: 0.736000\n",
      "Loss: 0.766651, Train accuracy: 0.850667, val accuracy: 0.743000\n",
      "Loss: 0.538160, Train accuracy: 0.854333, val accuracy: 0.749000\n",
      "Loss: 0.811112, Train accuracy: 0.863222, val accuracy: 0.757000\n",
      "Loss: 0.612704, Train accuracy: 0.870444, val accuracy: 0.749000\n",
      "Loss: 0.721809, Train accuracy: 0.855111, val accuracy: 0.738000\n",
      "Loss: 0.590897, Train accuracy: 0.869444, val accuracy: 0.753000\n",
      "Loss: 0.758394, Train accuracy: 0.867778, val accuracy: 0.755000\n",
      "Loss: 0.930563, Train accuracy: 0.871000, val accuracy: 0.757000\n",
      "Loss: 0.877253, Train accuracy: 0.855333, val accuracy: 0.738000\n",
      "Loss: 0.665286, Train accuracy: 0.881889, val accuracy: 0.762000\n",
      "Loss: 0.863474, Train accuracy: 0.880444, val accuracy: 0.742000\n",
      "Loss: 0.808089, Train accuracy: 0.875333, val accuracy: 0.751000\n",
      "Loss: 0.932995, Train accuracy: 0.884000, val accuracy: 0.759000\n",
      "Loss: 0.934247, Train accuracy: 0.891556, val accuracy: 0.761000\n",
      "Loss: 0.714574, Train accuracy: 0.894778, val accuracy: 0.758000\n",
      "Loss: 0.787590, Train accuracy: 0.893444, val accuracy: 0.754000\n",
      "Loss: 0.716637, Train accuracy: 0.892444, val accuracy: 0.770000\n",
      "Loss: 0.819591, Train accuracy: 0.885111, val accuracy: 0.755000\n",
      "Loss: 0.714862, Train accuracy: 0.894000, val accuracy: 0.758000\n",
      "Loss: 0.673138, Train accuracy: 0.897111, val accuracy: 0.761000\n",
      "Loss: 0.785225, Train accuracy: 0.885111, val accuracy: 0.750000\n",
      "Loss: 0.564052, Train accuracy: 0.884778, val accuracy: 0.750000\n",
      "Loss: 0.798284, Train accuracy: 0.896333, val accuracy: 0.760000\n",
      "Loss: 0.707219, Train accuracy: 0.898444, val accuracy: 0.760000\n",
      "Loss: 0.834839, Train accuracy: 0.900222, val accuracy: 0.769000\n",
      "Loss: 0.720701, Train accuracy: 0.900222, val accuracy: 0.758000\n",
      "Loss: 0.717834, Train accuracy: 0.903556, val accuracy: 0.761000\n",
      "Loss: 0.780875, Train accuracy: 0.909556, val accuracy: 0.766000\n",
      "Loss: 0.778892, Train accuracy: 0.904222, val accuracy: 0.764000\n",
      "Loss: 0.699121, Train accuracy: 0.905222, val accuracy: 0.759000\n",
      "Loss: 0.625007, Train accuracy: 0.910556, val accuracy: 0.768000\n",
      "Loss: 0.708101, Train accuracy: 0.910333, val accuracy: 0.765000\n",
      "Loss: 0.727669, Train accuracy: 0.902000, val accuracy: 0.764000\n",
      "Loss: 0.648092, Train accuracy: 0.915556, val accuracy: 0.764000\n",
      "Loss: 0.601801, Train accuracy: 0.912778, val accuracy: 0.765000\n",
      "Loss: 0.857850, Train accuracy: 0.897667, val accuracy: 0.763000\n",
      "Loss: 0.719558, Train accuracy: 0.907444, val accuracy: 0.763000\n",
      "Loss: 0.671668, Train accuracy: 0.912222, val accuracy: 0.765000\n",
      "Loss: 0.632542, Train accuracy: 0.917556, val accuracy: 0.771000\n",
      "Loss: 0.646284, Train accuracy: 0.902889, val accuracy: 0.762000\n",
      "Loss: 0.928415, Train accuracy: 0.920778, val accuracy: 0.774000\n",
      "Loss: 0.888915, Train accuracy: 0.914333, val accuracy: 0.768000\n",
      "Loss: 0.684227, Train accuracy: 0.915222, val accuracy: 0.771000\n",
      "Loss: 0.725563, Train accuracy: 0.925556, val accuracy: 0.787000\n",
      "Loss: 0.880895, Train accuracy: 0.906444, val accuracy: 0.760000\n",
      "Loss: 0.675916, Train accuracy: 0.915000, val accuracy: 0.765000\n",
      "Loss: 0.664018, Train accuracy: 0.921778, val accuracy: 0.767000\n",
      "Loss: 0.670573, Train accuracy: 0.921556, val accuracy: 0.767000\n",
      "Loss: 0.789436, Train accuracy: 0.909778, val accuracy: 0.758000\n",
      "Loss: 0.753272, Train accuracy: 0.920778, val accuracy: 0.781000\n",
      "Loss: 0.710126, Train accuracy: 0.928667, val accuracy: 0.779000\n",
      "Loss: 0.806089, Train accuracy: 0.895444, val accuracy: 0.740000\n",
      "Loss: 0.748721, Train accuracy: 0.930000, val accuracy: 0.790000\n",
      "Loss: 0.650970, Train accuracy: 0.931556, val accuracy: 0.772000\n",
      "Loss: 0.942665, Train accuracy: 0.919556, val accuracy: 0.772000\n",
      "Loss: 0.654921, Train accuracy: 0.934000, val accuracy: 0.776000\n",
      "Loss: 0.644623, Train accuracy: 0.925667, val accuracy: 0.770000\n",
      "Loss: 0.609246, Train accuracy: 0.933222, val accuracy: 0.779000\n",
      "Loss: 0.804652, Train accuracy: 0.931556, val accuracy: 0.773000\n",
      "Loss: 0.555711, Train accuracy: 0.930667, val accuracy: 0.767000\n",
      "Loss: 0.699977, Train accuracy: 0.919889, val accuracy: 0.772000\n",
      "Loss: 0.710497, Train accuracy: 0.913111, val accuracy: 0.771000\n",
      "Loss: 0.661850, Train accuracy: 0.933556, val accuracy: 0.768000\n",
      "Loss: 0.808841, Train accuracy: 0.924778, val accuracy: 0.778000\n",
      "Loss: 0.719249, Train accuracy: 0.931778, val accuracy: 0.773000\n",
      "Loss: 0.621425, Train accuracy: 0.911333, val accuracy: 0.750000\n",
      "Loss: 0.813448, Train accuracy: 0.911222, val accuracy: 0.756000\n",
      "Loss: 0.740546, Train accuracy: 0.932667, val accuracy: 0.784000\n",
      "Loss: 0.759938, Train accuracy: 0.928000, val accuracy: 0.773000\n",
      "Loss: 0.762845, Train accuracy: 0.929444, val accuracy: 0.774000\n",
      "Loss: 0.651372, Train accuracy: 0.926889, val accuracy: 0.768000\n",
      "Loss: 0.716139, Train accuracy: 0.933778, val accuracy: 0.769000\n",
      "Loss: 0.774996, Train accuracy: 0.934000, val accuracy: 0.777000\n",
      "Loss: 0.627175, Train accuracy: 0.933111, val accuracy: 0.792000\n",
      "Loss: 0.885565, Train accuracy: 0.935222, val accuracy: 0.778000\n",
      "Loss: 0.746896, Train accuracy: 0.930000, val accuracy: 0.770000\n",
      "Loss: 0.671310, Train accuracy: 0.941667, val accuracy: 0.781000\n",
      "Loss: 0.924307, Train accuracy: 0.937111, val accuracy: 0.783000\n",
      "Loss: 0.624070, Train accuracy: 0.927444, val accuracy: 0.767000\n",
      "Loss: 0.562505, Train accuracy: 0.932222, val accuracy: 0.778000\n",
      "Loss: 0.722445, Train accuracy: 0.932556, val accuracy: 0.774000\n",
      "Loss: 0.597391, Train accuracy: 0.945778, val accuracy: 0.781000\n",
      "Loss: 0.638576, Train accuracy: 0.932667, val accuracy: 0.773000\n",
      "Loss: 0.852985, Train accuracy: 0.916333, val accuracy: 0.765000\n",
      "Loss: 0.834114, Train accuracy: 0.944333, val accuracy: 0.781000\n",
      "Loss: 0.772129, Train accuracy: 0.938778, val accuracy: 0.780000\n",
      "Loss: 0.662728, Train accuracy: 0.936222, val accuracy: 0.780000\n",
      "Loss: 0.771282, Train accuracy: 0.924222, val accuracy: 0.761000\n",
      "Loss: 0.669875, Train accuracy: 0.943222, val accuracy: 0.784000\n",
      "Loss: 0.787542, Train accuracy: 0.936667, val accuracy: 0.779000\n",
      "Loss: 0.750530, Train accuracy: 0.935889, val accuracy: 0.773000\n",
      "Loss: 0.786853, Train accuracy: 0.945556, val accuracy: 0.785000\n",
      "Loss: 0.596677, Train accuracy: 0.922556, val accuracy: 0.777000\n",
      "Loss: 0.666073, Train accuracy: 0.925222, val accuracy: 0.766000\n",
      "Loss: 0.732649, Train accuracy: 0.941444, val accuracy: 0.782000\n",
      "Loss: 0.545320, Train accuracy: 0.934667, val accuracy: 0.775000\n",
      "Loss: 1.096125, Train accuracy: 0.933889, val accuracy: 0.780000\n",
      "Loss: 0.680910, Train accuracy: 0.934556, val accuracy: 0.777000\n",
      "Loss: 0.647998, Train accuracy: 0.930333, val accuracy: 0.775000\n",
      "Loss: 0.690419, Train accuracy: 0.948111, val accuracy: 0.787000\n",
      "Loss: 0.662740, Train accuracy: 0.939889, val accuracy: 0.786000\n",
      "Loss: 0.810868, Train accuracy: 0.930000, val accuracy: 0.772000\n",
      "Loss: 0.811946, Train accuracy: 0.934444, val accuracy: 0.779000\n",
      "Loss: 0.769977, Train accuracy: 0.945889, val accuracy: 0.769000\n",
      "Loss: 0.589655, Train accuracy: 0.948556, val accuracy: 0.793000\n",
      "Loss: 0.681431, Train accuracy: 0.908111, val accuracy: 0.772000\n",
      "Loss: 0.650957, Train accuracy: 0.942667, val accuracy: 0.791000\n",
      "Loss: 0.753415, Train accuracy: 0.933111, val accuracy: 0.768000\n",
      "Loss: 0.807383, Train accuracy: 0.948222, val accuracy: 0.788000\n",
      "Loss: 0.660335, Train accuracy: 0.932667, val accuracy: 0.773000\n",
      "Loss: 0.605449, Train accuracy: 0.932556, val accuracy: 0.781000\n",
      "Loss: 0.703792, Train accuracy: 0.945333, val accuracy: 0.785000\n",
      "Loss: 0.556444, Train accuracy: 0.935778, val accuracy: 0.776000\n",
      "Loss: 0.728922, Train accuracy: 0.930556, val accuracy: 0.782000\n",
      "Loss: 0.643174, Train accuracy: 0.928333, val accuracy: 0.766000\n",
      "Loss: 0.690890, Train accuracy: 0.939556, val accuracy: 0.778000\n",
      "Loss: 0.676970, Train accuracy: 0.931222, val accuracy: 0.780000\n",
      "Loss: 0.654918, Train accuracy: 0.943778, val accuracy: 0.783000\n",
      "Loss: 0.675140, Train accuracy: 0.947111, val accuracy: 0.791000\n",
      "Loss: 0.585202, Train accuracy: 0.948444, val accuracy: 0.782000\n",
      "Loss: 0.544531, Train accuracy: 0.942556, val accuracy: 0.787000\n",
      "Loss: 0.758430, Train accuracy: 0.945111, val accuracy: 0.785000\n",
      "Loss: 0.589958, Train accuracy: 0.944444, val accuracy: 0.775000\n",
      "Loss: 0.768902, Train accuracy: 0.950222, val accuracy: 0.787000\n",
      "Loss: 0.620144, Train accuracy: 0.938333, val accuracy: 0.777000\n",
      "Loss: 0.713240, Train accuracy: 0.943556, val accuracy: 0.778000\n",
      "Loss: 0.762124, Train accuracy: 0.945778, val accuracy: 0.783000\n",
      "Loss: 0.704524, Train accuracy: 0.946889, val accuracy: 0.792000\n",
      "Loss: 0.587369, Train accuracy: 0.948556, val accuracy: 0.798000\n",
      "Loss: 0.697953, Train accuracy: 0.947889, val accuracy: 0.786000\n",
      "Loss: 0.617669, Train accuracy: 0.944889, val accuracy: 0.778000\n",
      "Loss: 0.707632, Train accuracy: 0.924889, val accuracy: 0.769000\n",
      "Loss: 0.723589, Train accuracy: 0.944667, val accuracy: 0.785000\n",
      "Loss: 0.641267, Train accuracy: 0.934556, val accuracy: 0.783000\n",
      "Loss: 0.714240, Train accuracy: 0.940000, val accuracy: 0.771000\n",
      "Loss: 0.590972, Train accuracy: 0.954333, val accuracy: 0.785000\n",
      "Loss: 0.803298, Train accuracy: 0.952222, val accuracy: 0.794000\n",
      "Loss: 0.665251, Train accuracy: 0.937889, val accuracy: 0.783000\n",
      "Loss: 0.612388, Train accuracy: 0.944111, val accuracy: 0.786000\n",
      "Loss: 0.618170, Train accuracy: 0.953333, val accuracy: 0.783000\n",
      "Loss: 0.740295, Train accuracy: 0.953222, val accuracy: 0.786000\n",
      "Loss: 0.672340, Train accuracy: 0.945000, val accuracy: 0.788000\n",
      "Loss: 0.642927, Train accuracy: 0.942222, val accuracy: 0.777000\n",
      "Loss: 0.622127, Train accuracy: 0.924000, val accuracy: 0.779000\n",
      "Loss: 0.721473, Train accuracy: 0.947000, val accuracy: 0.783000\n",
      "Loss: 0.738043, Train accuracy: 0.954889, val accuracy: 0.783000\n",
      "Loss: 0.620059, Train accuracy: 0.945889, val accuracy: 0.782000\n",
      "Loss: 0.661556, Train accuracy: 0.949000, val accuracy: 0.789000\n",
      "Loss: 0.562662, Train accuracy: 0.939778, val accuracy: 0.779000\n",
      "Loss: 0.617525, Train accuracy: 0.946889, val accuracy: 0.787000\n",
      "Loss: 0.561936, Train accuracy: 0.945000, val accuracy: 0.798000\n",
      "Loss: 0.856644, Train accuracy: 0.949556, val accuracy: 0.787000\n",
      "Loss: 0.807732, Train accuracy: 0.952000, val accuracy: 0.784000\n",
      "Loss: 0.771013, Train accuracy: 0.947111, val accuracy: 0.786000\n",
      "Loss: 0.726751, Train accuracy: 0.950556, val accuracy: 0.789000\n",
      "Loss: 0.700956, Train accuracy: 0.952222, val accuracy: 0.786000\n",
      "Loss: 0.752644, Train accuracy: 0.936556, val accuracy: 0.780000\n",
      "Loss: 0.566115, Train accuracy: 0.939667, val accuracy: 0.789000\n",
      "Loss: 0.655128, Train accuracy: 0.948111, val accuracy: 0.783000\n",
      "Loss: 0.639490, Train accuracy: 0.943222, val accuracy: 0.785000\n",
      "Loss: 0.767926, Train accuracy: 0.958000, val accuracy: 0.783000\n",
      "Loss: 0.771729, Train accuracy: 0.937889, val accuracy: 0.779000\n",
      "Loss: 0.742904, Train accuracy: 0.948444, val accuracy: 0.777000\n",
      "Loss: 0.592735, Train accuracy: 0.950000, val accuracy: 0.787000\n",
      "Loss: 0.658428, Train accuracy: 0.958111, val accuracy: 0.786000\n",
      "next\n",
      "best validation accuracy achieved: 0.786000\n"
     ]
    }
   ],
   "source": [
    "# Let's train the best one-hidden-layer network we can\n",
    "\n",
    "learning_rates = [1e-2]\n",
    "reg_strengths = [1e-3]\n",
    "learning_rate_decay = [0.99]\n",
    "hidden_layer_sizes = [256]\n",
    "num_epochs = [200]\n",
    "batch_size = 64\n",
    "\n",
    "best_classifier = None\n",
    "best_val_accuracy = None\n",
    "\n",
    "loss_history = []\n",
    "train_history = []\n",
    "val_history = []\n",
    "best_learning_rate = 0\n",
    "best_reg_strength = 0\n",
    "best_hidden_layer_size = 0\n",
    "best_num_epoch = 0\n",
    "\n",
    "for learning_rate in learning_rates:\n",
    "    for reg_strength in reg_strengths:\n",
    "        for hidden_layer_size in hidden_layer_sizes:\n",
    "            for num_epoch in num_epochs:\n",
    "                model = TwoLayerNet(hidden_layer_size, 3072, 10, reg = reg_strength)\n",
    "                dataset = Dataset(train_X, train_y, val_X, val_y)\n",
    "                trainer = Trainer(model, dataset, MomentumSGD(), learning_rate=learning_rate, num_epochs=num_epoch, batch_size=batch_size)\n",
    "\n",
    "                loss_history, train_history, val_history = trainer.fit()\n",
    "                \n",
    "                if best_classifier == None:\n",
    "                    best_classifier = model\n",
    "                    best_val_accuracy = val_history[-1]\n",
    "                \n",
    "                if best_val_accuracy<best_val_accuracy:\n",
    "                    best_classifier = model\n",
    "                    best_val_accuracy = val_history[-1]\n",
    "                    best_learning_rate = learning_rate\n",
    "                    best_reg_strength = reg_strength\n",
    "                    best_hidden_layer_size = hidden_layer_size\n",
    "                    best_num_epoch = num_epoch\n",
    "                print('next')\n",
    "\n",
    "print('best validation accuracy achieved: %f' % best_val_accuracy)"
   ]
  },
  {
   "cell_type": "code",
   "execution_count": 37,
   "metadata": {},
   "outputs": [
    {
     "data": {
      "text/plain": [
       "(0, 0)"
      ]
     },
     "execution_count": 37,
     "metadata": {},
     "output_type": "execute_result"
    }
   ],
   "source": [
    "best_learning_rate,                     best_reg_strength"
   ]
  },
  {
   "cell_type": "code",
   "execution_count": 38,
   "metadata": {},
   "outputs": [
    {
     "data": {
      "text/plain": [
       "[<matplotlib.lines.Line2D at 0x259b97074a8>]"
      ]
     },
     "execution_count": 38,
     "metadata": {},
     "output_type": "execute_result"
    },
    {
     "data": {
      "image/png": "[encoded data removed]",
      "text/plain": [
       "<Figure size 1080x504 with 2 Axes>"
      ]
     },
     "metadata": {
      "needs_background": "light"
     },
     "output_type": "display_data"
    }
   ],
   "source": [
    "plt.figure(figsize=(15, 7))\n",
    "plt.subplot(211)\n",
    "plt.title(\"Loss\")\n",
    "plt.plot(loss_history)\n",
    "plt.subplot(212)\n",
    "plt.title(\"Train/validation accuracy\")\n",
    "plt.plot(train_history)\n",
    "plt.plot(val_history)"
   ]
  },
  {
   "cell_type": "markdown",
   "metadata": {},
   "source": [
    "# Как обычно, посмотрим, как наша лучшая модель работает на тестовых данных"
   ]
  },
  {
   "cell_type": "code",
   "execution_count": 39,
   "metadata": {},
   "outputs": [
    {
     "name": "stdout",
     "output_type": "stream",
     "text": [
      "Neural net test set accuracy: 0.736000\n"
     ]
    }
   ],
   "source": [
    "test_pred = best_classifier.predict(test_X)\n",
    "test_accuracy = multiclass_accuracy(test_pred, test_y)\n",
    "print('Neural net test set accuracy: %f' % (test_accuracy, ))"
   ]
  }
 ],
 "metadata": {
  "kernelspec": {
   "display_name": "Python 3",
   "language": "python",
   "name": "python3"
  },
  "language_info": {
   "codemirror_mode": {
    "name": "ipython",
    "version": 3
   },
   "file_extension": ".py",
   "mimetype": "text/x-python",
   "name": "python",
   "nbconvert_exporter": "python",
   "pygments_lexer": "ipython3",
   "version": "3.7.1"
  }
 },
 "nbformat": 4,
 "nbformat_minor": 2
}
