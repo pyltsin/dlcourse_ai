{
 "cells": [
  {
   "cell_type": "markdown",
   "metadata": {},
   "source": [
    "# Задание 2.1 - Нейронные сети\n",
    "\n",
    "В этом задании вы реализуете и натренируете настоящую нейроную сеть своими руками!\n",
    "\n",
    "В некотором смысле это будет расширением прошлого задания - нам нужно просто составить несколько линейных классификаторов вместе!\n",
    "\n",
    "<img src=\"https://i.redd.it/n9fgba8b0qr01.png\" alt=\"Stack_more_layers\" width=\"400px\"/>"
   ]
  },
  {
   "cell_type": "code",
   "execution_count": 1,
   "metadata": {},
   "outputs": [],
   "source": [
    "import numpy as np\n",
    "import matplotlib.pyplot as plt\n",
    "\n",
    "%matplotlib inline\n",
    "\n",
    "%load_ext autoreload\n",
    "%autoreload 2"
   ]
  },
  {
   "cell_type": "code",
   "execution_count": 25,
   "metadata": {},
   "outputs": [],
   "source": [
    "from dataset import load_svhn, random_split_train_val\n",
    "from gradient_check import check_layer_gradient, check_layer_param_gradient, check_model_gradient\n",
    "from layers import FullyConnectedLayer, ReLULayer\n",
    "from model import TwoLayerNet\n",
    "from trainer import Trainer, Dataset\n",
    "from optim import SGD, MomentumSGD\n",
    "from metrics import multiclass_accuracy"
   ]
  },
  {
   "cell_type": "markdown",
   "metadata": {},
   "source": [
    "# Загружаем данные\n",
    "\n",
    "И разделяем их на training и validation."
   ]
  },
  {
   "cell_type": "code",
   "execution_count": 3,
   "metadata": {},
   "outputs": [],
   "source": [
    "def prepare_for_neural_network(train_X, test_X):\n",
    "    train_flat = train_X.reshape(train_X.shape[0], -1).astype(np.float) / 255.0\n",
    "    test_flat = test_X.reshape(test_X.shape[0], -1).astype(np.float) / 255.0\n",
    "    \n",
    "    # Subtract mean\n",
    "    mean_image = np.mean(train_flat, axis = 0)\n",
    "    train_flat -= mean_image\n",
    "    test_flat -= mean_image\n",
    "    \n",
    "    return train_flat, test_flat\n",
    "    \n",
    "train_X, train_y, test_X, test_y = load_svhn(\"data\", max_train=10000, max_test=1000)    \n",
    "train_X, test_X = prepare_for_neural_network(train_X, test_X)\n",
    "# Split train into train and val\n",
    "train_X, train_y, val_X, val_y = random_split_train_val(train_X, train_y, num_val = 1000)"
   ]
  },
  {
   "cell_type": "markdown",
   "metadata": {},
   "source": [
    "# Как всегда, начинаем с кирпичиков\n",
    "\n",
    "Мы будем реализовывать необходимые нам слои по очереди. Каждый слой должен реализовать:\n",
    "- прямой проход (forward pass), который генерирует выход слоя по входу и запоминает необходимые данные\n",
    "- обратный проход (backward pass), который получает градиент по выходу слоя и вычисляет градиент по входу и по параметрам\n",
    "\n",
    "Начнем с ReLU, у которого параметров нет."
   ]
  },
  {
   "cell_type": "code",
   "execution_count": 4,
   "metadata": {
    "scrolled": false
   },
   "outputs": [
    {
     "name": "stdout",
     "output_type": "stream",
     "text": [
      "Gradient check passed!\n"
     ]
    }
   ],
   "source": [
    "# TODO: Implement ReLULayer layer in layers.py\n",
    "# Note: you'll need to copy implementation of the gradient_check function from the previous assignment\n",
    "\n",
    "X = np.array([[1,-2,3],\n",
    "              [-1, 2, 0.1]\n",
    "              ])\n",
    "\n",
    "assert check_layer_gradient(ReLULayer(), X)"
   ]
  },
  {
   "cell_type": "markdown",
   "metadata": {},
   "source": [
    "А теперь реализуем полносвязный слой (fully connected layer), у которого будет два массива параметров: W (weights) и B (bias).\n",
    "\n",
    "Все параметры наши слои будут хранить через специальный класс `Param`, в котором будут храниться значения параметров и градиенты этих параметров, вычисляемые во время обратного прохода.\n",
    "\n",
    "Это даст возможность аккумулировать (суммировать) градиенты из разных частей функции потерь, например, из cross-entropy loss и regularization loss."
   ]
  },
  {
   "cell_type": "code",
   "execution_count": 5,
   "metadata": {},
   "outputs": [
    {
     "data": {
      "text/plain": [
       "array([1., 2., 4.])"
      ]
     },
     "execution_count": 5,
     "metadata": {},
     "output_type": "execute_result"
    }
   ],
   "source": [
    "np.mean([[1,2,4],[1,2,4]], axis=0)"
   ]
  },
  {
   "cell_type": "code",
   "execution_count": 6,
   "metadata": {},
   "outputs": [
    {
     "name": "stdout",
     "output_type": "stream",
     "text": [
      "Gradient check passed!\n",
      "Gradient check passed!\n",
      "Gradient check passed!\n"
     ]
    }
   ],
   "source": [
    "# TODO: Implement FullyConnected layer forward and backward methods\n",
    "assert check_layer_gradient(FullyConnectedLayer(3, 4), X)\n",
    "# TODO: Implement storing gradients for W and B\n",
    "assert check_layer_param_gradient(FullyConnectedLayer(3, 4), X, 'W')\n",
    "assert check_layer_param_gradient(FullyConnectedLayer(3, 4), X, 'B')"
   ]
  },
  {
   "cell_type": "markdown",
   "metadata": {},
   "source": [
    "## Создаем нейронную сеть\n",
    "\n",
    "Теперь мы реализуем простейшую нейронную сеть с двумя полносвязным слоями и нелинейностью ReLU. Реализуйте функцию `compute_loss_and_gradients`, она должна запустить прямой и обратный проход через оба слоя для вычисления градиентов."
   ]
  },
  {
   "cell_type": "code",
   "execution_count": 7,
   "metadata": {},
   "outputs": [
    {
     "data": {
      "text/plain": [
       "array([0, 1, 2, 3, 4, 5, 6, 7, 8, 9], dtype=uint8)"
      ]
     },
     "execution_count": 7,
     "metadata": {},
     "output_type": "execute_result"
    }
   ],
   "source": [
    "np.unique(train_y)"
   ]
  },
  {
   "cell_type": "code",
   "execution_count": 18,
   "metadata": {},
   "outputs": [
    {
     "name": "stdout",
     "output_type": "stream",
     "text": [
      "Checking gradient for 0_W\n",
      "Gradient check passed!\n",
      "Checking gradient for 0_B\n",
      "Gradient check passed!\n",
      "Checking gradient for 2_W\n",
      "Gradient check passed!\n",
      "Checking gradient for 2_B\n",
      "Gradient check passed!\n"
     ]
    },
    {
     "data": {
      "text/plain": [
       "True"
      ]
     },
     "execution_count": 18,
     "metadata": {},
     "output_type": "execute_result"
    }
   ],
   "source": [
    "# TODO: In model.py, implement compute_loss_and_gradients function\n",
    "model = TwoLayerNet(3, 3072, 10, reg = 0)\n",
    "loss = model.compute_loss_and_gradients(train_X[:2], train_y[:2])\n",
    "\n",
    "# TODO Now implement backward pass and aggregate all of the params\n",
    "check_model_gradient(model, train_X[:2], train_y[:2])"
   ]
  },
  {
   "cell_type": "markdown",
   "metadata": {},
   "source": [
    "Теперь добавьте к модели регуляризацию - она должна прибавляться к loss и делать свой вклад в градиенты."
   ]
  },
  {
   "cell_type": "code",
   "execution_count": 22,
   "metadata": {},
   "outputs": [
    {
     "name": "stdout",
     "output_type": "stream",
     "text": [
      "Checking gradient for 0_W\n",
      "Gradient check passed!\n",
      "Checking gradient for 0_B\n",
      "Gradient check passed!\n",
      "Checking gradient for 2_W\n",
      "Gradient check passed!\n",
      "Checking gradient for 2_B\n",
      "Gradient check passed!\n"
     ]
    },
    {
     "data": {
      "text/plain": [
       "True"
      ]
     },
     "execution_count": 22,
     "metadata": {},
     "output_type": "execute_result"
    }
   ],
   "source": [
    "# TODO Now implement l2 regularization in the forward and backward pass\n",
    "model_with_reg = TwoLayerNet(3, 3072, 10, reg = 1e1)\n",
    "loss_with_reg = model_with_reg.compute_loss_and_gradients(train_X[:2], train_y[:2])\n",
    "assert loss_with_reg > loss and not np.isclose(loss_with_reg, loss), \\\n",
    "    \"Loss with regularization (%2.4f) should be higher than without it (%2.4f)!\" % (loss, loss_with_reg)\n",
    "\n",
    "check_model_gradient(model_with_reg, train_X[:2], train_y[:2])"
   ]
  },
  {
   "cell_type": "markdown",
   "metadata": {},
   "source": [
    "Также реализуем функцию предсказания (вычисления значения) модели на новых данных.\n",
    "\n",
    "Какое значение точности мы ожидаем увидеть до начала тренировки?"
   ]
  },
  {
   "cell_type": "code",
   "execution_count": 27,
   "metadata": {},
   "outputs": [],
   "source": [
    "import numpy as np"
   ]
  },
  {
   "cell_type": "code",
   "execution_count": 29,
   "metadata": {},
   "outputs": [
    {
     "data": {
      "text/plain": [
       "0.1"
      ]
     },
     "execution_count": 29,
     "metadata": {},
     "output_type": "execute_result"
    }
   ],
   "source": [
    "# Finally, implement predict function!\n",
    "\n",
    "# TODO: Implement predict function\n",
    "# What would be the value we expect?\n",
    "multiclass_accuracy(model_with_reg.predict(train_X[:30]), train_y[:30]) "
   ]
  },
  {
   "cell_type": "markdown",
   "metadata": {},
   "source": [
    "# Допишем код для процесса тренировки"
   ]
  },
  {
   "cell_type": "code",
   "execution_count": 36,
   "metadata": {},
   "outputs": [
    {
     "name": "stdout",
     "output_type": "stream",
     "text": [
      "Loss: 2.232811, Train accuracy: 0.192333, val accuracy: 0.195000\n",
      "Loss: 2.226305, Train accuracy: 0.192333, val accuracy: 0.195000\n",
      "Loss: 2.238183, Train accuracy: 0.192333, val accuracy: 0.195000\n",
      "Loss: 2.267008, Train accuracy: 0.192333, val accuracy: 0.195000\n",
      "Loss: 2.141829, Train accuracy: 0.192333, val accuracy: 0.195000\n",
      "Loss: 2.137928, Train accuracy: 0.192333, val accuracy: 0.195000\n",
      "Loss: 2.191099, Train accuracy: 0.192333, val accuracy: 0.195000\n",
      "Loss: 2.148836, Train accuracy: 0.192333, val accuracy: 0.195000\n",
      "Loss: 2.036525, Train accuracy: 0.196889, val accuracy: 0.200000\n",
      "Loss: 2.113375, Train accuracy: 0.221889, val accuracy: 0.222000\n",
      "Loss: 2.091186, Train accuracy: 0.243667, val accuracy: 0.232000\n",
      "Loss: 2.087668, Train accuracy: 0.253333, val accuracy: 0.237000\n",
      "Loss: 1.948149, Train accuracy: 0.283222, val accuracy: 0.273000\n",
      "Loss: 1.832734, Train accuracy: 0.306111, val accuracy: 0.298000\n",
      "Loss: 1.806776, Train accuracy: 0.350889, val accuracy: 0.335000\n",
      "Loss: 2.011733, Train accuracy: 0.386000, val accuracy: 0.358000\n",
      "Loss: 1.716565, Train accuracy: 0.405000, val accuracy: 0.395000\n",
      "Loss: 1.851435, Train accuracy: 0.427889, val accuracy: 0.417000\n",
      "Loss: 1.756947, Train accuracy: 0.453889, val accuracy: 0.440000\n",
      "Loss: 1.649901, Train accuracy: 0.466000, val accuracy: 0.456000\n"
     ]
    }
   ],
   "source": [
    "model = TwoLayerNet(100, 3072, 10, reg = 0.001)\n",
    "dataset = Dataset(train_X, train_y, val_X, val_y)\n",
    "trainer = Trainer(model, dataset, SGD(), learning_rate=1e-2)\n",
    "\n",
    "# TODO Implement missing pieces in Trainer.fit function\n",
    "# You should expect loss to go down and train and val accuracy go up for every epoch\n",
    "loss_history, train_history, val_history = trainer.fit()"
   ]
  },
  {
   "cell_type": "code",
   "execution_count": 37,
   "metadata": {},
   "outputs": [
    {
     "data": {
      "text/plain": [
       "[<matplotlib.lines.Line2D at 0x22100077470>]"
      ]
     },
     "execution_count": 37,
     "metadata": {},
     "output_type": "execute_result"
    },
    {
     "data": {
      "image/png": "[encoded data removed]",
      "text/plain": [
       "<Figure size 432x288 with 1 Axes>"
      ]
     },
     "metadata": {
      "needs_background": "light"
     },
     "output_type": "display_data"
    }
   ],
   "source": [
    "plt.plot(train_history)\n",
    "plt.plot(val_history)"
   ]
  },
  {
   "cell_type": "code",
   "execution_count": null,
   "metadata": {},
   "outputs": [],
   "source": [
    "class Layer:\n",
    "    def forward(self, x):\n",
    "        result = ... # промежуточные вычисления\n",
    "        self.x = x # сохраняем значения, которые нам\n",
    "                   # понадобятся при обратном проходе\n",
    "        return result\n",
    "    \n",
    "    def backward(self, grad):\n",
    "        dx = ... # используем сохраненные значения, чтобы \n",
    "        dw = ... # вычислить градиент по x и по w\n",
    "        self.w.grad += dw # аккумулируем градиент dw\n",
    "        return dx"
   ]
  },
  {
   "cell_type": "markdown",
   "metadata": {},
   "source": [
    "# Улучшаем процесс тренировки\n",
    "\n",
    "Мы реализуем несколько ключевых оптимизаций, необходимых для тренировки современных нейросетей."
   ]
  },
  {
   "cell_type": "markdown",
   "metadata": {},
   "source": [
    "## Уменьшение скорости обучения (learning rate decay)\n",
    "\n",
    "Одна из необходимых оптимизаций во время тренировки нейронных сетей - постепенное уменьшение скорости обучения по мере тренировки.\n",
    "\n",
    "Один из стандартных методов - уменьшение скорости обучения (learning rate) каждые N эпох на коэффициент d (часто называемый decay). Значения N и d, как всегда, являются гиперпараметрами и должны подбираться на основе эффективности на проверочных данных (validation data). \n",
    "\n",
    "В нашем случае N будет равным 1."
   ]
  },
  {
   "cell_type": "code",
   "execution_count": 40,
   "metadata": {},
   "outputs": [
    {
     "name": "stdout",
     "output_type": "stream",
     "text": [
      "Loss: 2.233943, Train accuracy: 0.192333, val accuracy: 0.195000\n",
      "Loss: 2.227963, Train accuracy: 0.192333, val accuracy: 0.195000\n",
      "Loss: 2.116775, Train accuracy: 0.192333, val accuracy: 0.195000\n",
      "Loss: 2.260924, Train accuracy: 0.192333, val accuracy: 0.195000\n",
      "Loss: 2.240014, Train accuracy: 0.192333, val accuracy: 0.195000\n",
      "Loss: 2.357802, Train accuracy: 0.192333, val accuracy: 0.195000\n",
      "Loss: 2.262062, Train accuracy: 0.192333, val accuracy: 0.195000\n",
      "Loss: 2.166126, Train accuracy: 0.192333, val accuracy: 0.195000\n",
      "Loss: 2.088272, Train accuracy: 0.192222, val accuracy: 0.195000\n",
      "Loss: 2.111706, Train accuracy: 0.212333, val accuracy: 0.213000\n",
      "Loss: 2.305725, Train accuracy: 0.243000, val accuracy: 0.238000\n",
      "Loss: 2.155386, Train accuracy: 0.259667, val accuracy: 0.253000\n",
      "Loss: 1.728261, Train accuracy: 0.280000, val accuracy: 0.273000\n",
      "Loss: 2.109735, Train accuracy: 0.304222, val accuracy: 0.293000\n",
      "Loss: 1.890930, Train accuracy: 0.322556, val accuracy: 0.311000\n",
      "Loss: 1.915306, Train accuracy: 0.341667, val accuracy: 0.319000\n",
      "Loss: 2.135395, Train accuracy: 0.360667, val accuracy: 0.343000\n",
      "Loss: 2.313308, Train accuracy: 0.385444, val accuracy: 0.372000\n",
      "Loss: 1.928113, Train accuracy: 0.396889, val accuracy: 0.383000\n",
      "Loss: 1.865428, Train accuracy: 0.429222, val accuracy: 0.423000\n"
     ]
    }
   ],
   "source": [
    "# TODO Implement learning rate decay inside Trainer.fit method\n",
    "# Decay should happen once per epoch\n",
    "\n",
    "model = TwoLayerNet(100, 3072, 10, reg = 0.001)\n",
    "dataset = Dataset(train_X, train_y, val_X, val_y)\n",
    "trainer = Trainer(model, dataset, SGD(), learning_rate_decay=0.99, learning_rate=1e-2)\n",
    "\n",
    "initial_learning_rate = trainer.learning_rate\n",
    "loss_history, train_history, val_history = trainer.fit()\n",
    "\n",
    "assert trainer.learning_rate < initial_learning_rate, \"Learning rate should've been reduced\"\n",
    "assert trainer.learning_rate > 0.5*initial_learning_rate, \"Learning rate shouldn'tve been reduced that much!\""
   ]
  },
  {
   "cell_type": "markdown",
   "metadata": {},
   "source": [
    "# Накопление импульса (Momentum SGD)\n",
    "\n",
    "Другой большой класс оптимизаций - использование более эффективных методов градиентного спуска. Мы реализуем один из них - накопление импульса (Momentum SGD).\n",
    "\n",
    "Этот метод хранит скорость движения, использует градиент для ее изменения на каждом шаге, и изменяет веса пропорционально значению скорости.\n",
    "(Физическая аналогия: Вместо скорости градиенты теперь будут задавать ускорение, но будет присутствовать сила трения.)\n",
    "\n",
    "```\n",
    "velocity = momentum * velocity - learning_rate * gradient \n",
    "w = w + velocity\n",
    "```\n",
    "\n",
    "`momentum` здесь коэффициент затухания, который тоже является гиперпараметром (к счастью, для него часто есть хорошее значение по умолчанию, типичный диапазон -- 0.8-0.99).\n",
    "\n",
    "Несколько полезных ссылок, где метод разбирается более подробно:  \n",
    "http://cs231n.github.io/neural-networks-3/#sgd  \n",
    "https://distill.pub/2017/momentum/"
   ]
  },
  {
   "cell_type": "code",
   "execution_count": 45,
   "metadata": {},
   "outputs": [
    {
     "name": "stdout",
     "output_type": "stream",
     "text": [
      "Loss: 2.314890, Train accuracy: 0.192333, val accuracy: 0.195000\n",
      "Loss: 2.247814, Train accuracy: 0.192333, val accuracy: 0.195000\n",
      "Loss: 2.215954, Train accuracy: 0.192333, val accuracy: 0.195000\n",
      "Loss: 2.185074, Train accuracy: 0.192333, val accuracy: 0.195000\n",
      "Loss: 2.463703, Train accuracy: 0.192333, val accuracy: 0.195000\n",
      "Loss: 2.050778, Train accuracy: 0.192333, val accuracy: 0.195000\n",
      "Loss: 1.989586, Train accuracy: 0.192333, val accuracy: 0.195000\n",
      "Loss: 2.002382, Train accuracy: 0.192333, val accuracy: 0.195000\n",
      "Loss: 2.098380, Train accuracy: 0.192333, val accuracy: 0.195000\n",
      "Loss: 2.238386, Train accuracy: 0.212000, val accuracy: 0.221000\n",
      "Loss: 2.283021, Train accuracy: 0.241556, val accuracy: 0.237000\n",
      "Loss: 2.379846, Train accuracy: 0.260000, val accuracy: 0.252000\n",
      "Loss: 1.706586, Train accuracy: 0.284889, val accuracy: 0.282000\n",
      "Loss: 1.969569, Train accuracy: 0.306778, val accuracy: 0.295000\n",
      "Loss: 1.734875, Train accuracy: 0.320000, val accuracy: 0.312000\n",
      "Loss: 2.193988, Train accuracy: 0.338667, val accuracy: 0.328000\n",
      "Loss: 2.006003, Train accuracy: 0.363222, val accuracy: 0.347000\n",
      "Loss: 1.962038, Train accuracy: 0.390667, val accuracy: 0.384000\n",
      "Loss: 1.415255, Train accuracy: 0.422111, val accuracy: 0.409000\n",
      "Loss: 1.449799, Train accuracy: 0.434222, val accuracy: 0.423000\n"
     ]
    }
   ],
   "source": [
    "# TODO: Implement MomentumSGD.update function in optim.py\n",
    "\n",
    "model = TwoLayerNet(100, 3072, 10, reg = 1e-3)\n",
    "dataset = Dataset(train_X, train_y, val_X, val_y)\n",
    "trainer = Trainer(model, dataset, MomentumSGD(), learning_rate=1e-3, learning_rate_decay=0.99)\n",
    "\n",
    "# You should see even better results than before!\n",
    "loss_history, train_history, val_history = trainer.fit()"
   ]
  },
  {
   "cell_type": "markdown",
   "metadata": {},
   "source": [
    "# Ну что, давайте уже тренировать сеть!"
   ]
  },
  {
   "cell_type": "markdown",
   "metadata": {},
   "source": [
    "## Последний тест - переобучимся (overfit) на маленьком наборе данных\n",
    "\n",
    "Хороший способ проверить, все ли реализовано корректно - переобучить сеть на маленьком наборе данных.  \n",
    "Наша модель обладает достаточной мощностью, чтобы приблизить маленький набор данных идеально, поэтому мы ожидаем, что на нем мы быстро дойдем до 100% точности на тренировочном наборе. \n",
    "\n",
    "Если этого не происходит, то где-то была допущена ошибка!"
   ]
  },
  {
   "cell_type": "code",
   "execution_count": 46,
   "metadata": {},
   "outputs": [
    {
     "name": "stdout",
     "output_type": "stream",
     "text": [
      "Loss: 2.322703, Train accuracy: 0.200000, val accuracy: 0.133333\n",
      "Loss: 2.320555, Train accuracy: 0.200000, val accuracy: 0.133333\n",
      "Loss: 2.286107, Train accuracy: 0.200000, val accuracy: 0.133333\n",
      "Loss: 2.304149, Train accuracy: 0.200000, val accuracy: 0.133333\n",
      "Loss: 2.264015, Train accuracy: 0.200000, val accuracy: 0.133333\n",
      "Loss: 2.283399, Train accuracy: 0.266667, val accuracy: 0.066667\n",
      "Loss: 2.227245, Train accuracy: 0.333333, val accuracy: 0.066667\n",
      "Loss: 2.228731, Train accuracy: 0.333333, val accuracy: 0.066667\n",
      "Loss: 2.219130, Train accuracy: 0.333333, val accuracy: 0.066667\n",
      "Loss: 2.244057, Train accuracy: 0.333333, val accuracy: 0.066667\n",
      "Loss: 2.143188, Train accuracy: 0.400000, val accuracy: 0.066667\n",
      "Loss: 2.197151, Train accuracy: 0.400000, val accuracy: 0.066667\n",
      "Loss: 2.246096, Train accuracy: 0.400000, val accuracy: 0.066667\n",
      "Loss: 2.305099, Train accuracy: 0.400000, val accuracy: 0.066667\n",
      "Loss: 2.070014, Train accuracy: 0.400000, val accuracy: 0.066667\n",
      "Loss: 2.041618, Train accuracy: 0.400000, val accuracy: 0.066667\n",
      "Loss: 1.974307, Train accuracy: 0.400000, val accuracy: 0.066667\n",
      "Loss: 1.808203, Train accuracy: 0.466667, val accuracy: 0.000000\n",
      "Loss: 1.685264, Train accuracy: 0.466667, val accuracy: 0.066667\n",
      "Loss: 2.293673, Train accuracy: 0.600000, val accuracy: 0.066667\n",
      "Loss: 1.785197, Train accuracy: 0.666667, val accuracy: 0.066667\n",
      "Loss: 1.116086, Train accuracy: 0.533333, val accuracy: 0.066667\n",
      "Loss: 1.760481, Train accuracy: 0.600000, val accuracy: 0.066667\n",
      "Loss: 1.696229, Train accuracy: 0.600000, val accuracy: 0.133333\n",
      "Loss: 1.648209, Train accuracy: 0.600000, val accuracy: 0.133333\n",
      "Loss: 1.421080, Train accuracy: 0.600000, val accuracy: 0.133333\n",
      "Loss: 1.493337, Train accuracy: 0.666667, val accuracy: 0.133333\n",
      "Loss: 1.413692, Train accuracy: 0.666667, val accuracy: 0.133333\n",
      "Loss: 1.898338, Train accuracy: 0.733333, val accuracy: 0.133333\n",
      "Loss: 1.784977, Train accuracy: 0.666667, val accuracy: 0.133333\n",
      "Loss: 1.896775, Train accuracy: 0.733333, val accuracy: 0.133333\n",
      "Loss: 1.254393, Train accuracy: 0.666667, val accuracy: 0.133333\n",
      "Loss: 1.815912, Train accuracy: 0.666667, val accuracy: 0.133333\n",
      "Loss: 1.046035, Train accuracy: 0.666667, val accuracy: 0.133333\n",
      "Loss: 1.983946, Train accuracy: 0.666667, val accuracy: 0.133333\n",
      "Loss: 1.605327, Train accuracy: 0.733333, val accuracy: 0.133333\n",
      "Loss: 1.427181, Train accuracy: 0.666667, val accuracy: 0.133333\n",
      "Loss: 2.030103, Train accuracy: 0.733333, val accuracy: 0.133333\n",
      "Loss: 1.368498, Train accuracy: 0.733333, val accuracy: 0.133333\n",
      "Loss: 1.989530, Train accuracy: 0.733333, val accuracy: 0.133333\n",
      "Loss: 1.190372, Train accuracy: 0.733333, val accuracy: 0.133333\n",
      "Loss: 1.446736, Train accuracy: 0.733333, val accuracy: 0.133333\n",
      "Loss: 1.293763, Train accuracy: 0.733333, val accuracy: 0.133333\n",
      "Loss: 0.971979, Train accuracy: 0.800000, val accuracy: 0.133333\n",
      "Loss: 1.465864, Train accuracy: 0.800000, val accuracy: 0.133333\n",
      "Loss: 1.621726, Train accuracy: 0.800000, val accuracy: 0.133333\n",
      "Loss: 1.134121, Train accuracy: 0.800000, val accuracy: 0.133333\n",
      "Loss: 1.190155, Train accuracy: 0.800000, val accuracy: 0.133333\n",
      "Loss: 1.441358, Train accuracy: 0.800000, val accuracy: 0.133333\n",
      "Loss: 1.042155, Train accuracy: 0.800000, val accuracy: 0.133333\n",
      "Loss: 1.063342, Train accuracy: 0.800000, val accuracy: 0.133333\n",
      "Loss: 1.794841, Train accuracy: 0.800000, val accuracy: 0.133333\n",
      "Loss: 1.127940, Train accuracy: 0.800000, val accuracy: 0.133333\n",
      "Loss: 1.103325, Train accuracy: 0.800000, val accuracy: 0.133333\n",
      "Loss: 1.128900, Train accuracy: 0.800000, val accuracy: 0.133333\n",
      "Loss: 1.254842, Train accuracy: 0.800000, val accuracy: 0.133333\n",
      "Loss: 1.223623, Train accuracy: 0.800000, val accuracy: 0.133333\n",
      "Loss: 1.257054, Train accuracy: 0.866667, val accuracy: 0.133333\n",
      "Loss: 1.112985, Train accuracy: 0.800000, val accuracy: 0.133333\n",
      "Loss: 1.137450, Train accuracy: 0.866667, val accuracy: 0.133333\n",
      "Loss: 1.389711, Train accuracy: 0.866667, val accuracy: 0.133333\n",
      "Loss: 0.953616, Train accuracy: 0.866667, val accuracy: 0.133333\n",
      "Loss: 1.541123, Train accuracy: 0.866667, val accuracy: 0.133333\n",
      "Loss: 0.888296, Train accuracy: 0.866667, val accuracy: 0.133333\n",
      "Loss: 1.095082, Train accuracy: 0.866667, val accuracy: 0.133333\n",
      "Loss: 1.531366, Train accuracy: 0.866667, val accuracy: 0.133333\n",
      "Loss: 1.481660, Train accuracy: 0.866667, val accuracy: 0.133333\n",
      "Loss: 1.187844, Train accuracy: 0.866667, val accuracy: 0.133333\n",
      "Loss: 1.124368, Train accuracy: 0.866667, val accuracy: 0.133333\n",
      "Loss: 1.074284, Train accuracy: 0.866667, val accuracy: 0.133333\n",
      "Loss: 1.189584, Train accuracy: 0.866667, val accuracy: 0.133333\n",
      "Loss: 1.251590, Train accuracy: 0.866667, val accuracy: 0.133333\n",
      "Loss: 1.616463, Train accuracy: 0.866667, val accuracy: 0.133333\n",
      "Loss: 1.672042, Train accuracy: 0.866667, val accuracy: 0.133333\n",
      "Loss: 1.231975, Train accuracy: 0.866667, val accuracy: 0.133333\n",
      "Loss: 1.420329, Train accuracy: 0.866667, val accuracy: 0.133333\n",
      "Loss: 1.142946, Train accuracy: 0.866667, val accuracy: 0.133333\n",
      "Loss: 1.289461, Train accuracy: 0.866667, val accuracy: 0.133333\n",
      "Loss: 1.569719, Train accuracy: 0.866667, val accuracy: 0.133333\n",
      "Loss: 1.242248, Train accuracy: 0.866667, val accuracy: 0.133333\n",
      "Loss: 1.086098, Train accuracy: 0.933333, val accuracy: 0.133333\n",
      "Loss: 1.271102, Train accuracy: 0.866667, val accuracy: 0.133333\n",
      "Loss: 1.468439, Train accuracy: 0.866667, val accuracy: 0.133333\n",
      "Loss: 1.308823, Train accuracy: 0.866667, val accuracy: 0.133333\n",
      "Loss: 1.731575, Train accuracy: 0.866667, val accuracy: 0.133333\n",
      "Loss: 1.146105, Train accuracy: 0.933333, val accuracy: 0.133333\n",
      "Loss: 1.282563, Train accuracy: 0.933333, val accuracy: 0.133333\n",
      "Loss: 1.632439, Train accuracy: 0.866667, val accuracy: 0.133333\n",
      "Loss: 1.242525, Train accuracy: 0.866667, val accuracy: 0.133333\n",
      "Loss: 1.331014, Train accuracy: 0.866667, val accuracy: 0.133333\n",
      "Loss: 1.127243, Train accuracy: 0.866667, val accuracy: 0.133333\n",
      "Loss: 1.377374, Train accuracy: 0.866667, val accuracy: 0.133333\n",
      "Loss: 1.323477, Train accuracy: 0.933333, val accuracy: 0.133333\n",
      "Loss: 1.080355, Train accuracy: 0.933333, val accuracy: 0.133333\n",
      "Loss: 1.380328, Train accuracy: 1.000000, val accuracy: 0.133333\n",
      "Loss: 1.536680, Train accuracy: 1.000000, val accuracy: 0.133333\n",
      "Loss: 1.246576, Train accuracy: 1.000000, val accuracy: 0.133333\n",
      "Loss: 1.398211, Train accuracy: 1.000000, val accuracy: 0.133333\n",
      "Loss: 1.335552, Train accuracy: 0.933333, val accuracy: 0.133333\n",
      "Loss: 1.266068, Train accuracy: 1.000000, val accuracy: 0.133333\n",
      "Loss: 1.329992, Train accuracy: 1.000000, val accuracy: 0.133333\n",
      "Loss: 1.240854, Train accuracy: 1.000000, val accuracy: 0.133333\n",
      "Loss: 1.373001, Train accuracy: 0.933333, val accuracy: 0.133333\n",
      "Loss: 1.051799, Train accuracy: 1.000000, val accuracy: 0.133333\n",
      "Loss: 1.599885, Train accuracy: 1.000000, val accuracy: 0.133333\n",
      "Loss: 1.305278, Train accuracy: 1.000000, val accuracy: 0.133333\n",
      "Loss: 1.082279, Train accuracy: 1.000000, val accuracy: 0.133333\n",
      "Loss: 0.918744, Train accuracy: 1.000000, val accuracy: 0.133333\n",
      "Loss: 1.172937, Train accuracy: 1.000000, val accuracy: 0.133333\n",
      "Loss: 1.240689, Train accuracy: 1.000000, val accuracy: 0.133333\n",
      "Loss: 1.346825, Train accuracy: 1.000000, val accuracy: 0.133333\n",
      "Loss: 1.321860, Train accuracy: 1.000000, val accuracy: 0.133333\n",
      "Loss: 1.409079, Train accuracy: 1.000000, val accuracy: 0.133333\n",
      "Loss: 1.356338, Train accuracy: 1.000000, val accuracy: 0.133333\n",
      "Loss: 1.212361, Train accuracy: 1.000000, val accuracy: 0.133333\n",
      "Loss: 1.446231, Train accuracy: 1.000000, val accuracy: 0.133333\n",
      "Loss: 1.344477, Train accuracy: 1.000000, val accuracy: 0.133333\n",
      "Loss: 1.316621, Train accuracy: 1.000000, val accuracy: 0.133333\n",
      "Loss: 1.079200, Train accuracy: 1.000000, val accuracy: 0.133333\n",
      "Loss: 1.148015, Train accuracy: 1.000000, val accuracy: 0.133333\n",
      "Loss: 1.605433, Train accuracy: 1.000000, val accuracy: 0.133333\n",
      "Loss: 1.214994, Train accuracy: 1.000000, val accuracy: 0.133333\n",
      "Loss: 1.273005, Train accuracy: 1.000000, val accuracy: 0.133333\n",
      "Loss: 1.403325, Train accuracy: 1.000000, val accuracy: 0.133333\n",
      "Loss: 1.134726, Train accuracy: 1.000000, val accuracy: 0.133333\n",
      "Loss: 1.192109, Train accuracy: 1.000000, val accuracy: 0.133333\n",
      "Loss: 1.067682, Train accuracy: 1.000000, val accuracy: 0.133333\n",
      "Loss: 1.541406, Train accuracy: 1.000000, val accuracy: 0.133333\n",
      "Loss: 1.161870, Train accuracy: 1.000000, val accuracy: 0.133333\n",
      "Loss: 1.200930, Train accuracy: 1.000000, val accuracy: 0.133333\n",
      "Loss: 1.203967, Train accuracy: 1.000000, val accuracy: 0.133333\n",
      "Loss: 1.238102, Train accuracy: 1.000000, val accuracy: 0.133333\n",
      "Loss: 1.100340, Train accuracy: 1.000000, val accuracy: 0.133333\n",
      "Loss: 1.226426, Train accuracy: 1.000000, val accuracy: 0.133333\n",
      "Loss: 1.139279, Train accuracy: 1.000000, val accuracy: 0.133333\n",
      "Loss: 1.254805, Train accuracy: 1.000000, val accuracy: 0.133333\n",
      "Loss: 1.321891, Train accuracy: 1.000000, val accuracy: 0.133333\n",
      "Loss: 1.069557, Train accuracy: 1.000000, val accuracy: 0.133333\n",
      "Loss: 1.150733, Train accuracy: 1.000000, val accuracy: 0.133333\n",
      "Loss: 1.169298, Train accuracy: 1.000000, val accuracy: 0.133333\n",
      "Loss: 1.156546, Train accuracy: 1.000000, val accuracy: 0.133333\n",
      "Loss: 1.203339, Train accuracy: 1.000000, val accuracy: 0.133333\n",
      "Loss: 1.337833, Train accuracy: 1.000000, val accuracy: 0.133333\n",
      "Loss: 1.121633, Train accuracy: 1.000000, val accuracy: 0.133333\n",
      "Loss: 1.284843, Train accuracy: 1.000000, val accuracy: 0.133333\n",
      "Loss: 1.319638, Train accuracy: 1.000000, val accuracy: 0.133333\n",
      "Loss: 1.296577, Train accuracy: 1.000000, val accuracy: 0.133333\n",
      "Loss: 1.130986, Train accuracy: 1.000000, val accuracy: 0.133333\n",
      "Loss: 1.134598, Train accuracy: 1.000000, val accuracy: 0.133333\n",
      "Loss: 1.264735, Train accuracy: 1.000000, val accuracy: 0.133333\n"
     ]
    }
   ],
   "source": [
    "data_size = 15\n",
    "model = TwoLayerNet(100, 3072, 10, reg = 1e-1)\n",
    "dataset = Dataset(train_X[:data_size], train_y[:data_size], val_X[:data_size], val_y[:data_size])\n",
    "trainer = Trainer(model, dataset, SGD(), learning_rate=1e-1, num_epochs=150, batch_size=5)\n",
    "\n",
    "# You should expect this to reach 1.0 training accuracy \n",
    "loss_history, train_history, val_history = trainer.fit()"
   ]
  },
  {
   "cell_type": "markdown",
   "metadata": {},
   "source": [
    "Теперь найдем гипепараметры, для которых этот процесс сходится быстрее.\n",
    "Если все реализовано корректно, то существуют параметры, при которых процесс сходится в **20** эпох или еще быстрее.\n",
    "Найдите их!"
   ]
  },
  {
   "cell_type": "code",
   "execution_count": 58,
   "metadata": {},
   "outputs": [
    {
     "name": "stdout",
     "output_type": "stream",
     "text": [
      "Loss: 2.316296, Train accuracy: 0.200000, val accuracy: 0.133333\n",
      "Loss: 2.328327, Train accuracy: 0.333333, val accuracy: 0.133333\n",
      "Loss: 2.178138, Train accuracy: 0.400000, val accuracy: 0.066667\n",
      "Loss: 2.149553, Train accuracy: 0.400000, val accuracy: 0.066667\n",
      "Loss: 2.035125, Train accuracy: 0.400000, val accuracy: 0.066667\n",
      "Loss: 2.100496, Train accuracy: 0.400000, val accuracy: 0.000000\n",
      "Loss: 2.198599, Train accuracy: 0.466667, val accuracy: 0.066667\n",
      "Loss: 1.979404, Train accuracy: 0.533333, val accuracy: 0.133333\n",
      "Loss: 1.787430, Train accuracy: 0.666667, val accuracy: 0.133333\n",
      "Loss: 1.014876, Train accuracy: 0.533333, val accuracy: 0.200000\n",
      "Loss: 1.126851, Train accuracy: 0.733333, val accuracy: 0.133333\n",
      "Loss: 1.153090, Train accuracy: 0.600000, val accuracy: 0.133333\n",
      "Loss: 0.668097, Train accuracy: 0.800000, val accuracy: 0.133333\n",
      "Loss: 0.433572, Train accuracy: 0.800000, val accuracy: 0.133333\n",
      "Loss: 0.582129, Train accuracy: 0.800000, val accuracy: 0.133333\n",
      "Loss: 0.202058, Train accuracy: 0.866667, val accuracy: 0.133333\n",
      "Loss: 0.791773, Train accuracy: 0.866667, val accuracy: 0.133333\n",
      "Loss: 1.183723, Train accuracy: 1.000000, val accuracy: 0.133333\n",
      "Loss: 0.206569, Train accuracy: 1.000000, val accuracy: 0.133333\n",
      "Loss: 0.051763, Train accuracy: 1.000000, val accuracy: 0.133333\n"
     ]
    }
   ],
   "source": [
    "# Now, tweak some hyper parameters and make it train to 1.0 accuracy in 20 epochs or less\n",
    "\n",
    "model = TwoLayerNet(100, 3072, 10, reg = 1e-3)\n",
    "dataset = Dataset(train_X[:data_size], train_y[:data_size], val_X[:data_size], val_y[:data_size])\n",
    "# TODO: Change any hyperparamers or optimizators to reach training accuracy in 20 epochs\n",
    "trainer = Trainer(model, dataset, SGD(), learning_rate=0.3, num_epochs=20, batch_size=5)\n",
    "\n",
    "loss_history, train_history, val_history = trainer.fit()"
   ]
  },
  {
   "cell_type": "markdown",
   "metadata": {},
   "source": [
    "# Итак, основное мероприятие!\n",
    "\n",
    "Натренируйте лучшую нейросеть! Можно добавлять и изменять параметры, менять количество нейронов в слоях сети и как угодно экспериментировать. \n",
    "\n",
    "Добейтесь точности лучше **40%** на validation set."
   ]
  },
  {
   "cell_type": "code",
   "execution_count": null,
   "metadata": {
    "scrolled": true
   },
   "outputs": [],
   "source": [
    "# Let's train the best one-hidden-layer network we can\n",
    "\n",
    "learning_rates = 1e-4\n",
    "reg_strength = 1e-3\n",
    "learning_rate_decay = 0.999\n",
    "hidden_layer_size = 128\n",
    "num_epochs = 200\n",
    "batch_size = 64\n",
    "\n",
    "best_classifier = None\n",
    "best_val_accuracy = None\n",
    "\n",
    "loss_history = []\n",
    "train_history = []\n",
    "val_history = []\n",
    "\n",
    "# TODO find the best hyperparameters to train the network\n",
    "# Don't hesitate to add new values to the arrays above, perform experiments, use any tricks you want\n",
    "# You should expect to get to at least 40% of valudation accuracy\n",
    "# Save loss/train/history of the best classifier to the variables above\n",
    "\n",
    "print('best validation accuracy achieved: %f' % best_val_accuracy)"
   ]
  },
  {
   "cell_type": "code",
   "execution_count": null,
   "metadata": {},
   "outputs": [],
   "source": [
    "plt.figure(figsize=(15, 7))\n",
    "plt.subplot(211)\n",
    "plt.title(\"Loss\")\n",
    "plt.plot(loss_history)\n",
    "plt.subplot(212)\n",
    "plt.title(\"Train/validation accuracy\")\n",
    "plt.plot(train_history)\n",
    "plt.plot(val_history)"
   ]
  },
  {
   "cell_type": "markdown",
   "metadata": {},
   "source": [
    "# Как обычно, посмотрим, как наша лучшая модель работает на тестовых данных"
   ]
  },
  {
   "cell_type": "code",
   "execution_count": null,
   "metadata": {},
   "outputs": [],
   "source": [
    "test_pred = best_classifier.predict(test_X)\n",
    "test_accuracy = multiclass_accuracy(test_pred, test_y)\n",
    "print('Neural net test set accuracy: %f' % (test_accuracy, ))"
   ]
  }
 ],
 "metadata": {
  "kernelspec": {
   "display_name": "Python 3",
   "language": "python",
   "name": "python3"
  },
  "language_info": {
   "codemirror_mode": {
    "name": "ipython",
    "version": 3
   },
   "file_extension": ".py",
   "mimetype": "text/x-python",
   "name": "python",
   "nbconvert_exporter": "python",
   "pygments_lexer": "ipython3",
   "version": "3.7.1"
  }
 },
 "nbformat": 4,
 "nbformat_minor": 2
}
