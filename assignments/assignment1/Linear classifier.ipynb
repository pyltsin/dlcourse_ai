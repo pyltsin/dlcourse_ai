{
 "cells": [
  {
   "cell_type": "markdown",
   "metadata": {},
   "source": [
    "# Задание 1.2 - Линейный классификатор (Linear classifier)\n",
    "\n",
    "В этом задании мы реализуем другую модель машинного обучения - линейный классификатор. Линейный классификатор подбирает для каждого класса веса, на которые нужно умножить значение каждого признака и потом сложить вместе.\n",
    "Тот класс, у которого эта сумма больше, и является предсказанием модели.\n",
    "\n",
    "В этом задании вы:\n",
    "- потренируетесь считать градиенты различных многомерных функций\n",
    "- реализуете подсчет градиентов через линейную модель и функцию потерь softmax\n",
    "- реализуете процесс тренировки линейного классификатора\n",
    "- подберете параметры тренировки на практике\n",
    "\n",
    "На всякий случай, еще раз ссылка на туториал по numpy:  \n",
    "http://cs231n.github.io/python-numpy-tutorial/"
   ]
  },
  {
   "cell_type": "code",
   "execution_count": 1,
   "metadata": {},
   "outputs": [],
   "source": [
    "import numpy as np\n",
    "import matplotlib.pyplot as plt\n",
    "\n",
    "%matplotlib inline\n",
    "\n",
    "%load_ext autoreload\n",
    "%autoreload 2"
   ]
  },
  {
   "cell_type": "code",
   "execution_count": 2,
   "metadata": {},
   "outputs": [],
   "source": [
    "from dataset import load_svhn, random_split_train_val\n",
    "from gradient_check import check_gradient\n",
    "from metrics import multiclass_accuracy \n",
    "import linear_classifer"
   ]
  },
  {
   "cell_type": "markdown",
   "metadata": {},
   "source": [
    "# Как всегда, первым делом загружаем данные\n",
    "\n",
    "Мы будем использовать все тот же SVHN."
   ]
  },
  {
   "cell_type": "code",
   "execution_count": 4,
   "metadata": {},
   "outputs": [],
   "source": [
    "def prepare_for_linear_classifier(train_X, test_X):\n",
    "    train_flat = train_X.reshape(train_X.shape[0], -1).astype(np.float) / 255.0\n",
    "    test_flat = test_X.reshape(test_X.shape[0], -1).astype(np.float) / 255.0\n",
    "    \n",
    "    # Subtract mean\n",
    "    mean_image = np.mean(train_flat, axis = 0)\n",
    "    train_flat -= mean_image\n",
    "    test_flat -= mean_image\n",
    "    \n",
    "    # Add another channel with ones as a bias term\n",
    "    train_flat_with_ones = np.hstack([train_flat, np.ones((train_X.shape[0], 1))])\n",
    "    test_flat_with_ones = np.hstack([test_flat, np.ones((test_X.shape[0], 1))])    \n",
    "    return train_flat_with_ones, test_flat_with_ones\n",
    "    \n",
    "train_X, train_y, test_X, test_y = load_svhn(\"data\", max_train=10000, max_test=1000)    \n",
    "train_X, test_X = prepare_for_linear_classifier(train_X, test_X)\n",
    "# Split train into train and val\n",
    "train_X, train_y, val_X, val_y = random_split_train_val(train_X, train_y, num_val = 1000)"
   ]
  },
  {
   "cell_type": "markdown",
   "metadata": {},
   "source": [
    "# Играемся с градиентами!\n",
    "\n",
    "В этом курсе мы будем писать много функций, которые вычисляют градиенты аналитическим методом.\n",
    "\n",
    "Необходимым инструментом во время реализации кода, вычисляющего градиенты, является функция его проверки. Эта функция вычисляет градиент численным методом и сверяет результат с градиентом, вычисленным аналитическим методом.\n",
    "\n",
    "Мы начнем с того, чтобы реализовать вычисление численного градиента (numeric gradient) в этой функции.\n",
    "Вычислите градиент с помощью численной производной для каждой координаты. Для вычисления производной используйте так называемую two-point formula (https://en.wikipedia.org/wiki/Numerical_differentiation):\n",
    "\n",
    "![image](https://wikimedia.org/api/rest_v1/media/math/render/svg/22fc2c0a66c63560a349604f8b6b39221566236d)\n"
   ]
  },
  {
   "cell_type": "code",
   "execution_count": 11,
   "metadata": {
    "scrolled": true
   },
   "outputs": [
    {
     "name": "stdout",
     "output_type": "stream",
     "text": [
      "Gradient check passed!\n",
      "Gradient check passed!\n",
      "Gradient check passed!\n"
     ]
    },
    {
     "data": {
      "text/plain": [
       "True"
      ]
     },
     "execution_count": 11,
     "metadata": {},
     "output_type": "execute_result"
    }
   ],
   "source": [
    "# TODO: Implement gradient check function\n",
    "def sqr(x):\n",
    "    return x*x, 2*x\n",
    "\n",
    "check_gradient(sqr, np.array([3.0]))\n",
    "\n",
    "def array_sum(x):\n",
    "    assert x.shape == (2,), x.shape\n",
    "    return np.sum(x), np.ones_like(x)\n",
    "\n",
    "check_gradient(array_sum, np.array([3.0, 2.0]))\n",
    "\n",
    "def array_2d_sum(x):\n",
    "    assert x.shape == (2,2)\n",
    "    return np.sum(x), np.ones_like(x)\n",
    "\n",
    "check_gradient(array_2d_sum, np.array([[3.0, 2.0], [1.0, 0.0]]))"
   ]
  },
  {
   "cell_type": "markdown",
   "metadata": {},
   "source": [
    "Теперь реализуем функцию softmax, которая получает на вход оценки для каждого класса и преобразует их в вероятности от 0 до 1:\n",
    "![image](https://wikimedia.org/api/rest_v1/media/math/render/svg/e348290cf48ddbb6e9a6ef4e39363568b67c09d3)\n",
    "\n",
    "**Важно:** Практический аспект вычисления этой функции заключается в том, что в ней учавствует вычисление экспоненты от потенциально очень больших чисел - это может привести к очень большим значениям в числителе и знаменателе за пределами диапазона float.\n",
    "\n",
    "К счастью, у этой проблемы есть простое решение -- перед вычислением softmax вычесть из всех оценок максимальное значение среди всех оценок:\n",
    "```\n",
    "predictions -= np.max(predictions)\n",
    "```\n",
    "(подробнее здесь - http://cs231n.github.io/linear-classify/#softmax, секция `Practical issues: Numeric stability`)"
   ]
  },
  {
   "cell_type": "code",
   "execution_count": 13,
   "metadata": {},
   "outputs": [
    {
     "name": "stdout",
     "output_type": "stream",
     "text": [
      "[2.06106005e-09 4.53978686e-05 9.99954600e-01]\n"
     ]
    }
   ],
   "source": [
    "# TODO Implement softmax and cross-entropy for single sample\n",
    "probs = linear_classifer.softmax(np.array([-10, 0, 10]))\n",
    "print(probs)\n",
    "# Make sure it works for big numbers too!\n",
    "probs = linear_classifer.softmax(np.array([1000, 0, 0]))\n",
    "assert np.isclose(probs[0], 1.0)"
   ]
  },
  {
   "cell_type": "markdown",
   "metadata": {},
   "source": [
    "Кроме этого, мы реализуем cross-entropy loss, которую мы будем использовать как функцию ошибки (error function).\n",
    "В общем виде cross-entropy определена следующим образом:\n",
    "![image](https://wikimedia.org/api/rest_v1/media/math/render/svg/0cb6da032ab424eefdca0884cd4113fe578f4293)\n",
    "\n",
    "где x - все классы, p(x) - истинная вероятность принадлежности сэмпла классу x, а q(x) - вероятность принадлежности классу x, предсказанная моделью.  \n",
    "В нашем случае сэмпл принадлежит только одному классу, индекс которого передается функции. Для него p(x) равна 1, а для остальных классов - 0. \n",
    "\n",
    "Это позволяет реализовать функцию проще!"
   ]
  },
  {
   "cell_type": "code",
   "execution_count": 14,
   "metadata": {},
   "outputs": [
    {
     "data": {
      "text/plain": [
       "5.006760443547122"
      ]
     },
     "execution_count": 14,
     "metadata": {},
     "output_type": "execute_result"
    }
   ],
   "source": [
    "probs = linear_classifer.softmax(np.array([-5, 0, 5]))\n",
    "linear_classifer.cross_entropy_loss(probs, 1)"
   ]
  },
  {
   "cell_type": "markdown",
   "metadata": {},
   "source": [
    "После того как мы реализовали сами функции, мы можем реализовать градиент.\n",
    "\n",
    "Оказывается, что вычисление градиента становится гораздо проще, если объединить эти функции в одну, которая сначала вычисляет вероятности через softmax, а потом использует их для вычисления функции ошибки через cross-entropy loss.\n",
    "\n",
    "Эта функция `softmax_with_cross_entropy` будет возвращает и значение ошибки, и градиент по входным параметрам. Мы проверим корректность реализации с помощью `check_gradient`."
   ]
  },
  {
   "cell_type": "code",
   "execution_count": 20,
   "metadata": {},
   "outputs": [
    {
     "name": "stdout",
     "output_type": "stream",
     "text": [
      "1.551444713932051\n",
      "[ 0.57611688 -0.78805844  0.21194156]\n",
      "Gradient check passed!\n"
     ]
    },
    {
     "data": {
      "text/plain": [
       "True"
      ]
     },
     "execution_count": 20,
     "metadata": {},
     "output_type": "execute_result"
    }
   ],
   "source": [
    "# TODO Implement combined function or softmax and cross entropy and produces gradient\n",
    "loss, grad = linear_classifer.softmax_with_cross_entropy(np.array([1, 0, 0]), 1)\n",
    "print(loss)\n",
    "print(grad)\n",
    "check_gradient(lambda x: linear_classifer.softmax_with_cross_entropy(x, 1), np.array([1, 0, 0], np.float))"
   ]
  },
  {
   "cell_type": "markdown",
   "metadata": {},
   "source": [
    "В качестве метода тренировки мы будем использовать стохастический градиентный спуск (stochastic gradient descent или SGD), который работает с батчами сэмплов. \n",
    "\n",
    "Поэтому все наши фукнции будут получать не один пример, а батч, то есть входом будет не вектор из `num_classes` оценок, а матрица размерности `batch_size, num_classes`. Индекс примера в батче всегда будет первым измерением.\n",
    "\n",
    "Следующий шаг - переписать наши функции так, чтобы они поддерживали батчи.\n",
    "\n",
    "Финальное значение функции ошибки должно остаться числом, и оно равно среднему значению ошибки среди всех примеров в батче."
   ]
  },
  {
   "cell_type": "code",
   "execution_count": 54,
   "metadata": {
    "scrolled": true
   },
   "outputs": [
    {
     "name": "stdout",
     "output_type": "stream",
     "text": [
      "Gradient check passed!\n",
      "Gradient check passed!\n"
     ]
    },
    {
     "data": {
      "text/plain": [
       "True"
      ]
     },
     "execution_count": 54,
     "metadata": {},
     "output_type": "execute_result"
    }
   ],
   "source": [
    "# TODO Extend combined function so it can receive a 2d array with batch of samples\n",
    "\n",
    "# Test batch_size = 1\n",
    "batch_size = 1\n",
    "predictions = np.zeros((batch_size, 3))\n",
    "target_index = np.ones(batch_size, np.int)\n",
    "check_gradient(lambda x: linear_classifer.softmax_with_cross_entropy(x, target_index), predictions)\n",
    "\n",
    "# Test batch_size = 3\n",
    "batch_size = 3\n",
    "predictions = np.zeros((batch_size, 3))\n",
    "target_index = np.ones(batch_size, np.int)\n",
    "check_gradient(lambda x: linear_classifer.softmax_with_cross_entropy(x, target_index), predictions)"
   ]
  },
  {
   "cell_type": "markdown",
   "metadata": {},
   "source": [
    "### Наконец, реализуем сам линейный классификатор!\n",
    "\n",
    "softmax и cross-entropy получают на вход оценки, которые выдает линейный классификатор.\n",
    "\n",
    "Он делает это очень просто: для каждого класса есть набор весов, на которые надо умножить пиксели картинки и сложить. Получившееся число и является оценкой класса, идущей на вход softmax.\n",
    "\n",
    "Таким образом, линейный классификатор можно представить как умножение вектора с пикселями на матрицу W размера `num_features, num_classes`. Такой подход легко расширяется на случай батча векторов с пикселями X размера `batch_size, num_features`:\n",
    "\n",
    "`predictions = X * W`, где `*` - матричное умножение.\n",
    "\n",
    "Реализуйте функцию подсчета линейного классификатора и градиентов по весам `linear_softmax` в файле `linear_classifer.py`"
   ]
  },
  {
   "cell_type": "code",
   "execution_count": 56,
   "metadata": {},
   "outputs": [
    {
     "name": "stdout",
     "output_type": "stream",
     "text": [
      "Gradient check passed!\n"
     ]
    },
    {
     "data": {
      "text/plain": [
       "True"
      ]
     },
     "execution_count": 56,
     "metadata": {},
     "output_type": "execute_result"
    }
   ],
   "source": [
    "# TODO Implement linear_softmax function that uses softmax with cross-entropy for linear classifier\n",
    "batch_size = 2\n",
    "num_classes = 2\n",
    "num_features = 3\n",
    "np.random.seed(42)\n",
    "W = np.random.randint(-1, 3, size=(num_features, num_classes)).astype(np.float)\n",
    "X = np.random.randint(-1, 3, size=(batch_size, num_features)).astype(np.float)\n",
    "target_index = np.ones(batch_size, dtype=np.int)\n",
    "\n",
    "loss, dW = linear_classifer.linear_softmax(X, W, target_index)\n",
    "check_gradient(lambda w: linear_classifer.linear_softmax(X, w, target_index), W)"
   ]
  },
  {
   "cell_type": "markdown",
   "metadata": {},
   "source": [
    "### И теперь регуляризация\n",
    "\n",
    "Мы будем использовать L2 regularization для весов как часть общей функции ошибки.\n",
    "\n",
    "Напомним, L2 regularization определяется как\n",
    "\n",
    "l2_reg_loss = regularization_strength * sum<sub>ij</sub> W[i, j]<sup>2</sup>\n",
    "\n",
    "Реализуйте функцию для его вычисления и вычисления соотвествующих градиентов."
   ]
  },
  {
   "cell_type": "code",
   "execution_count": 58,
   "metadata": {},
   "outputs": [
    {
     "name": "stdout",
     "output_type": "stream",
     "text": [
      "Gradient check passed!\n"
     ]
    },
    {
     "data": {
      "text/plain": [
       "True"
      ]
     },
     "execution_count": 58,
     "metadata": {},
     "output_type": "execute_result"
    }
   ],
   "source": [
    "# TODO Implement l2_regularization function that implements loss for L2 regularization\n",
    "linear_classifer.l2_regularization(W, 0.01)\n",
    "check_gradient(lambda w: linear_classifer.l2_regularization(w, 0.01), W)"
   ]
  },
  {
   "cell_type": "markdown",
   "metadata": {},
   "source": [
    "# Тренировка!"
   ]
  },
  {
   "cell_type": "markdown",
   "metadata": {},
   "source": [
    "Градиенты в порядке, реализуем процесс тренировки!"
   ]
  },
  {
   "cell_type": "code",
   "execution_count": 74,
   "metadata": {
    "scrolled": false
   },
   "outputs": [
    {
     "name": "stdout",
     "output_type": "stream",
     "text": [
      "Epoch 0, loss: 2.439751\n",
      "Epoch 1, loss: 2.430605\n",
      "Epoch 2, loss: 2.452918\n",
      "Epoch 3, loss: 2.473318\n",
      "Epoch 4, loss: 2.486831\n",
      "Epoch 5, loss: 2.494963\n",
      "Epoch 6, loss: 2.499530\n",
      "Epoch 7, loss: 2.502133\n",
      "Epoch 8, loss: 2.503555\n",
      "Epoch 9, loss: 2.504312\n"
     ]
    }
   ],
   "source": [
    "# TODO: Implement LinearSoftmaxClassifier.fit function\n",
    "classifier = linear_classifer.LinearSoftmaxClassifier()\n",
    "loss_history = classifier.fit(train_X, train_y, epochs=10, learning_rate=1e-3, batch_size=300, reg=1e1)"
   ]
  },
  {
   "cell_type": "code",
   "execution_count": 75,
   "metadata": {},
   "outputs": [
    {
     "data": {
      "text/plain": [
       "[<matplotlib.lines.Line2D at 0x140148ff630>]"
      ]
     },
     "execution_count": 75,
     "metadata": {},
     "output_type": "execute_result"
    },
    {
     "data": {
      "image/png": "[encoded data removed]",
      "text/plain": [
       "<Figure size 432x288 with 1 Axes>"
      ]
     },
     "metadata": {},
     "output_type": "display_data"
    }
   ],
   "source": [
    "# let's look at the loss history!\n",
    "plt.plot(loss_history)"
   ]
  },
  {
   "cell_type": "code",
   "execution_count": 80,
   "metadata": {},
   "outputs": [
    {
     "name": "stdout",
     "output_type": "stream",
     "text": [
      "Accuracy:  0.076\n",
      "Epoch 0, loss: 2.302770\n",
      "Epoch 1, loss: 2.302578\n",
      "Epoch 2, loss: 2.303022\n",
      "Epoch 3, loss: 2.302817\n",
      "Epoch 4, loss: 2.302610\n",
      "Epoch 5, loss: 2.302887\n",
      "Epoch 6, loss: 2.302525\n",
      "Epoch 7, loss: 2.302588\n",
      "Epoch 8, loss: 2.302573\n",
      "Epoch 9, loss: 2.302661\n",
      "Epoch 10, loss: 2.302618\n",
      "Epoch 11, loss: 2.302870\n",
      "Epoch 12, loss: 2.302580\n",
      "Epoch 13, loss: 2.302504\n",
      "Epoch 14, loss: 2.302511\n",
      "Epoch 15, loss: 2.302549\n",
      "Epoch 16, loss: 2.302747\n",
      "Epoch 17, loss: 2.302450\n",
      "Epoch 18, loss: 2.302683\n",
      "Epoch 19, loss: 2.302642\n",
      "Epoch 20, loss: 2.302752\n",
      "Epoch 21, loss: 2.302594\n",
      "Epoch 22, loss: 2.302517\n",
      "Epoch 23, loss: 2.302554\n",
      "Epoch 24, loss: 2.302543\n",
      "Epoch 25, loss: 2.302678\n",
      "Epoch 26, loss: 2.302414\n",
      "Epoch 27, loss: 2.302672\n",
      "Epoch 28, loss: 2.302624\n",
      "Epoch 29, loss: 2.302678\n",
      "Epoch 30, loss: 2.302777\n",
      "Epoch 31, loss: 2.302685\n",
      "Epoch 32, loss: 2.302580\n",
      "Epoch 33, loss: 2.302728\n",
      "Epoch 34, loss: 2.302660\n",
      "Epoch 35, loss: 2.302605\n",
      "Epoch 36, loss: 2.302739\n",
      "Epoch 37, loss: 2.302775\n",
      "Epoch 38, loss: 2.302716\n",
      "Epoch 39, loss: 2.302546\n",
      "Epoch 40, loss: 2.302689\n",
      "Epoch 41, loss: 2.302700\n",
      "Epoch 42, loss: 2.302453\n",
      "Epoch 43, loss: 2.302686\n",
      "Epoch 44, loss: 2.302528\n",
      "Epoch 45, loss: 2.302742\n",
      "Epoch 46, loss: 2.302546\n",
      "Epoch 47, loss: 2.302763\n",
      "Epoch 48, loss: 2.302549\n",
      "Epoch 49, loss: 2.302689\n",
      "Epoch 50, loss: 2.302523\n",
      "Epoch 51, loss: 2.302531\n",
      "Epoch 52, loss: 2.302794\n",
      "Epoch 53, loss: 2.302614\n",
      "Epoch 54, loss: 2.302499\n",
      "Epoch 55, loss: 2.302705\n",
      "Epoch 56, loss: 2.302668\n",
      "Epoch 57, loss: 2.302582\n",
      "Epoch 58, loss: 2.302623\n",
      "Epoch 59, loss: 2.302684\n",
      "Epoch 60, loss: 2.302621\n",
      "Epoch 61, loss: 2.302513\n",
      "Epoch 62, loss: 2.302576\n",
      "Epoch 63, loss: 2.302535\n",
      "Epoch 64, loss: 2.302598\n",
      "Epoch 65, loss: 2.302598\n",
      "Epoch 66, loss: 2.302604\n",
      "Epoch 67, loss: 2.302584\n",
      "Epoch 68, loss: 2.302639\n",
      "Epoch 69, loss: 2.302596\n",
      "Epoch 70, loss: 2.302680\n",
      "Epoch 71, loss: 2.302507\n",
      "Epoch 72, loss: 2.302651\n",
      "Epoch 73, loss: 2.302662\n",
      "Epoch 74, loss: 2.302611\n",
      "Epoch 75, loss: 2.302687\n",
      "Epoch 76, loss: 2.302494\n",
      "Epoch 77, loss: 2.302597\n",
      "Epoch 78, loss: 2.302645\n",
      "Epoch 79, loss: 2.302605\n",
      "Epoch 80, loss: 2.302603\n",
      "Epoch 81, loss: 2.302668\n",
      "Epoch 82, loss: 2.302612\n",
      "Epoch 83, loss: 2.302641\n",
      "Epoch 84, loss: 2.302497\n",
      "Epoch 85, loss: 2.302578\n",
      "Epoch 86, loss: 2.302667\n",
      "Epoch 87, loss: 2.302511\n",
      "Epoch 88, loss: 2.302601\n",
      "Epoch 89, loss: 2.302570\n",
      "Epoch 90, loss: 2.302662\n",
      "Epoch 91, loss: 2.302547\n",
      "Epoch 92, loss: 2.302516\n",
      "Epoch 93, loss: 2.302579\n",
      "Epoch 94, loss: 2.302620\n",
      "Epoch 95, loss: 2.302669\n",
      "Epoch 96, loss: 2.302601\n",
      "Epoch 97, loss: 2.302592\n",
      "Epoch 98, loss: 2.302721\n",
      "Epoch 99, loss: 2.302544\n",
      "Accuracy after training for 100 epochs:  0.1\n"
     ]
    }
   ],
   "source": [
    "# Let's check how it performs on validation set\n",
    "pred = classifier.predict(val_X)\n",
    "accuracy = multiclass_accuracy(pred, val_y)\n",
    "print(\"Accuracy: \", accuracy)\n",
    "\n",
    "classifier = linear_classifer.LinearSoftmaxClassifier()\n",
    "# Now, let's train more and see if it performs better\n",
    "classifier.fit(train_X, train_y, epochs=100, learning_rate=.1, batch_size=300, reg=0)\n",
    "pred = classifier.predict(val_X)\n",
    "accuracy = multiclass_accuracy(pred, val_y)\n",
    "print(\"Accuracy after training for 100 epochs: \", accuracy)"
   ]
  },
  {
   "cell_type": "markdown",
   "metadata": {},
   "source": [
    "### Как и раньше, используем кросс-валидацию для подбора гиперпараметтов.\n",
    "\n",
    "В этот раз, чтобы тренировка занимала разумное время, мы будем использовать только одно разделение на тренировочные (training) и проверочные (validation) данные.\n",
    "\n",
    "Теперь нам нужно подобрать не один, а два гиперпараметра! Не ограничивайте себя изначальными значениями в коде.  \n",
    "Добейтесь точности более чем **20%** на проверочных данных (validation data)."
   ]
  },
  {
   "cell_type": "code",
   "execution_count": 82,
   "metadata": {},
   "outputs": [
    {
     "name": "stdout",
     "output_type": "stream",
     "text": [
      "Epoch 0, loss: 2.302759\n",
      "Epoch 1, loss: 2.303866\n",
      "Epoch 2, loss: 2.303578\n",
      "Epoch 3, loss: 2.302180\n",
      "Epoch 4, loss: 2.302590\n",
      "Epoch 5, loss: 2.303307\n",
      "Epoch 6, loss: 2.301877\n",
      "Epoch 7, loss: 2.302755\n",
      "Epoch 8, loss: 2.303972\n",
      "Epoch 9, loss: 2.303429\n",
      "Epoch 10, loss: 2.302656\n",
      "Epoch 11, loss: 2.303031\n",
      "Epoch 12, loss: 2.302804\n",
      "Epoch 13, loss: 2.303281\n",
      "Epoch 14, loss: 2.303432\n",
      "Epoch 15, loss: 2.303219\n",
      "Epoch 16, loss: 2.302660\n",
      "Epoch 17, loss: 2.302660\n",
      "Epoch 18, loss: 2.303185\n",
      "Epoch 19, loss: 2.303570\n",
      "Epoch 20, loss: 2.302886\n",
      "Epoch 21, loss: 2.303206\n",
      "Epoch 22, loss: 2.302570\n",
      "Epoch 23, loss: 2.302474\n",
      "Epoch 24, loss: 2.303552\n",
      "Epoch 25, loss: 2.303594\n",
      "Epoch 26, loss: 2.303465\n",
      "Epoch 27, loss: 2.303487\n",
      "Epoch 28, loss: 2.303915\n",
      "Epoch 29, loss: 2.303576\n",
      "Epoch 30, loss: 2.303512\n",
      "Epoch 31, loss: 2.303767\n",
      "Epoch 32, loss: 2.303441\n",
      "Epoch 33, loss: 2.303422\n",
      "Epoch 34, loss: 2.303305\n",
      "Epoch 35, loss: 2.304002\n",
      "Epoch 36, loss: 2.304135\n",
      "Epoch 37, loss: 2.303883\n",
      "Epoch 38, loss: 2.304008\n",
      "Epoch 39, loss: 2.303085\n",
      "Epoch 40, loss: 2.304762\n",
      "Epoch 41, loss: 2.303572\n",
      "Epoch 42, loss: 2.304034\n",
      "Epoch 43, loss: 2.304038\n",
      "Epoch 44, loss: 2.304081\n",
      "Epoch 45, loss: 2.304579\n",
      "Epoch 46, loss: 2.304787\n",
      "Epoch 47, loss: 2.305209\n",
      "Epoch 48, loss: 2.304698\n",
      "Epoch 49, loss: 2.304549\n",
      "Epoch 50, loss: 2.304760\n",
      "Epoch 51, loss: 2.304634\n",
      "Epoch 52, loss: 2.304717\n",
      "Epoch 53, loss: 2.305019\n",
      "Epoch 54, loss: 2.304529\n",
      "Epoch 55, loss: 2.304650\n",
      "Epoch 56, loss: 2.304926\n",
      "Epoch 57, loss: 2.304973\n",
      "Epoch 58, loss: 2.305653\n",
      "Epoch 59, loss: 2.304648\n",
      "Epoch 60, loss: 2.305331\n",
      "Epoch 61, loss: 2.305505\n",
      "Epoch 62, loss: 2.305381\n",
      "Epoch 63, loss: 2.305838\n",
      "Epoch 64, loss: 2.305721\n",
      "Epoch 65, loss: 2.306276\n",
      "Epoch 66, loss: 2.305774\n",
      "Epoch 67, loss: 2.306011\n",
      "Epoch 68, loss: 2.306032\n",
      "Epoch 69, loss: 2.306455\n",
      "Epoch 70, loss: 2.306427\n",
      "Epoch 71, loss: 2.306341\n",
      "Epoch 72, loss: 2.306864\n",
      "Epoch 73, loss: 2.306447\n",
      "Epoch 74, loss: 2.306709\n",
      "Epoch 75, loss: 2.307121\n",
      "Epoch 76, loss: 2.306573\n",
      "Epoch 77, loss: 2.307276\n",
      "Epoch 78, loss: 2.307251\n",
      "Epoch 79, loss: 2.307623\n",
      "Epoch 80, loss: 2.307424\n",
      "Epoch 81, loss: 2.307873\n",
      "Epoch 82, loss: 2.307829\n",
      "Epoch 83, loss: 2.307573\n",
      "Epoch 84, loss: 2.308057\n",
      "Epoch 85, loss: 2.308380\n",
      "Epoch 86, loss: 2.308037\n",
      "Epoch 87, loss: 2.308498\n",
      "Epoch 88, loss: 2.308451\n",
      "Epoch 89, loss: 2.308453\n",
      "Epoch 90, loss: 2.308774\n",
      "Epoch 91, loss: 2.309383\n",
      "Epoch 92, loss: 2.308876\n",
      "Epoch 93, loss: 2.309018\n",
      "Epoch 94, loss: 2.308729\n",
      "Epoch 95, loss: 2.309588\n",
      "Epoch 96, loss: 2.309422\n",
      "Epoch 97, loss: 2.309337\n",
      "Epoch 98, loss: 2.309689\n",
      "Epoch 99, loss: 2.309716\n",
      "Epoch 100, loss: 2.310134\n",
      "Epoch 101, loss: 2.310255\n",
      "Epoch 102, loss: 2.310358\n",
      "Epoch 103, loss: 2.311015\n",
      "Epoch 104, loss: 2.310891\n",
      "Epoch 105, loss: 2.310584\n",
      "Epoch 106, loss: 2.310926\n",
      "Epoch 107, loss: 2.311086\n",
      "Epoch 108, loss: 2.310867\n",
      "Epoch 109, loss: 2.311039\n",
      "Epoch 110, loss: 2.311590\n",
      "Epoch 111, loss: 2.312307\n",
      "Epoch 112, loss: 2.312087\n",
      "Epoch 113, loss: 2.312022\n",
      "Epoch 114, loss: 2.312219\n",
      "Epoch 115, loss: 2.312637\n",
      "Epoch 116, loss: 2.312606\n",
      "Epoch 117, loss: 2.313037\n",
      "Epoch 118, loss: 2.313040\n",
      "Epoch 119, loss: 2.313049\n",
      "Epoch 120, loss: 2.313243\n",
      "Epoch 121, loss: 2.313231\n",
      "Epoch 122, loss: 2.313850\n",
      "Epoch 123, loss: 2.313813\n",
      "Epoch 124, loss: 2.314050\n",
      "Epoch 125, loss: 2.314150\n",
      "Epoch 126, loss: 2.314594\n",
      "Epoch 127, loss: 2.314584\n",
      "Epoch 128, loss: 2.314770\n",
      "Epoch 129, loss: 2.314948\n",
      "Epoch 130, loss: 2.314886\n",
      "Epoch 131, loss: 2.315230\n",
      "Epoch 132, loss: 2.315606\n",
      "Epoch 133, loss: 2.315527\n",
      "Epoch 134, loss: 2.315818\n",
      "Epoch 135, loss: 2.316164\n",
      "Epoch 136, loss: 2.316345\n",
      "Epoch 137, loss: 2.316507\n",
      "Epoch 138, loss: 2.316582\n",
      "Epoch 139, loss: 2.317095\n",
      "Epoch 140, loss: 2.317254\n",
      "Epoch 141, loss: 2.317422\n",
      "Epoch 142, loss: 2.317538\n",
      "Epoch 143, loss: 2.317517\n",
      "Epoch 144, loss: 2.317834\n",
      "Epoch 145, loss: 2.318086\n",
      "Epoch 146, loss: 2.318629\n",
      "Epoch 147, loss: 2.318691\n",
      "Epoch 148, loss: 2.318317\n",
      "Epoch 149, loss: 2.319027\n",
      "Epoch 150, loss: 2.318962\n",
      "Epoch 151, loss: 2.319318\n",
      "Epoch 152, loss: 2.319830\n",
      "Epoch 153, loss: 2.319837\n",
      "Epoch 154, loss: 2.319816\n",
      "Epoch 155, loss: 2.320134\n",
      "Epoch 156, loss: 2.320816\n",
      "Epoch 157, loss: 2.321192\n",
      "Epoch 158, loss: 2.321175\n",
      "Epoch 159, loss: 2.320960\n",
      "Epoch 160, loss: 2.321289\n",
      "Epoch 161, loss: 2.321859\n",
      "Epoch 162, loss: 2.322083\n",
      "Epoch 163, loss: 2.322055\n",
      "Epoch 164, loss: 2.322482\n",
      "Epoch 165, loss: 2.322944\n",
      "Epoch 166, loss: 2.322531\n",
      "Epoch 167, loss: 2.323042\n",
      "Epoch 168, loss: 2.323132\n",
      "Epoch 169, loss: 2.323555\n",
      "Epoch 170, loss: 2.323966\n",
      "Epoch 171, loss: 2.324328\n",
      "Epoch 172, loss: 2.324039\n",
      "Epoch 173, loss: 2.324553\n",
      "Epoch 174, loss: 2.325266\n",
      "Epoch 175, loss: 2.324952\n",
      "Epoch 176, loss: 2.325584\n",
      "Epoch 177, loss: 2.325802\n",
      "Epoch 178, loss: 2.325934\n",
      "Epoch 179, loss: 2.325911\n",
      "Epoch 180, loss: 2.326433\n",
      "Epoch 181, loss: 2.326789\n",
      "Epoch 182, loss: 2.326884\n",
      "Epoch 183, loss: 2.327069\n",
      "Epoch 184, loss: 2.327749\n",
      "Epoch 185, loss: 2.328326\n",
      "Epoch 186, loss: 2.328336\n",
      "Epoch 187, loss: 2.328560\n",
      "Epoch 188, loss: 2.328562\n",
      "Epoch 189, loss: 2.329060\n",
      "Epoch 190, loss: 2.329662\n",
      "Epoch 191, loss: 2.329421\n",
      "Epoch 192, loss: 2.329578\n",
      "Epoch 193, loss: 2.330200\n",
      "Epoch 194, loss: 2.330094\n",
      "Epoch 195, loss: 2.330396\n",
      "Epoch 196, loss: 2.330910\n",
      "Epoch 197, loss: 2.331215\n",
      "Epoch 198, loss: 2.331655\n",
      "Epoch 199, loss: 2.331840\n",
      "Epoch 0, loss: 2.302676\n",
      "Epoch 1, loss: 2.302751\n",
      "Epoch 2, loss: 2.303192\n",
      "Epoch 3, loss: 2.303204\n",
      "Epoch 4, loss: 2.302795\n",
      "Epoch 5, loss: 2.302447\n",
      "Epoch 6, loss: 2.303148\n",
      "Epoch 7, loss: 2.303189\n",
      "Epoch 8, loss: 2.302622\n",
      "Epoch 9, loss: 2.302347\n",
      "Epoch 10, loss: 2.302864\n",
      "Epoch 11, loss: 2.303096\n",
      "Epoch 12, loss: 2.302873\n",
      "Epoch 13, loss: 2.302970\n",
      "Epoch 14, loss: 2.303084\n",
      "Epoch 15, loss: 2.301766\n",
      "Epoch 16, loss: 2.303041\n",
      "Epoch 17, loss: 2.302362\n",
      "Epoch 18, loss: 2.303527\n",
      "Epoch 19, loss: 2.302861\n",
      "Epoch 20, loss: 2.302244\n",
      "Epoch 21, loss: 2.302555\n",
      "Epoch 22, loss: 2.302668\n",
      "Epoch 23, loss: 2.302590\n",
      "Epoch 24, loss: 2.303007\n",
      "Epoch 25, loss: 2.302536\n",
      "Epoch 26, loss: 2.303391\n",
      "Epoch 27, loss: 2.302741\n",
      "Epoch 28, loss: 2.302163\n",
      "Epoch 29, loss: 2.302135\n",
      "Epoch 30, loss: 2.302360\n",
      "Epoch 31, loss: 2.303067\n",
      "Epoch 32, loss: 2.302713\n",
      "Epoch 33, loss: 2.302675\n",
      "Epoch 34, loss: 2.302790\n",
      "Epoch 35, loss: 2.303024\n",
      "Epoch 36, loss: 2.303225\n",
      "Epoch 37, loss: 2.302870\n",
      "Epoch 38, loss: 2.303760\n",
      "Epoch 39, loss: 2.302682\n",
      "Epoch 40, loss: 2.302897\n",
      "Epoch 41, loss: 2.303575\n",
      "Epoch 42, loss: 2.302940\n",
      "Epoch 43, loss: 2.302484\n",
      "Epoch 44, loss: 2.302895\n",
      "Epoch 45, loss: 2.302866\n",
      "Epoch 46, loss: 2.303130\n",
      "Epoch 47, loss: 2.303050\n",
      "Epoch 48, loss: 2.303008\n",
      "Epoch 49, loss: 2.302976\n",
      "Epoch 50, loss: 2.302597\n",
      "Epoch 51, loss: 2.302979\n",
      "Epoch 52, loss: 2.303490\n",
      "Epoch 53, loss: 2.302809\n",
      "Epoch 54, loss: 2.303068\n",
      "Epoch 55, loss: 2.303334\n",
      "Epoch 56, loss: 2.303036\n",
      "Epoch 57, loss: 2.302555\n",
      "Epoch 58, loss: 2.302751\n",
      "Epoch 59, loss: 2.302915\n",
      "Epoch 60, loss: 2.302590\n",
      "Epoch 61, loss: 2.303290\n",
      "Epoch 62, loss: 2.302436\n",
      "Epoch 63, loss: 2.303115\n",
      "Epoch 64, loss: 2.302923\n",
      "Epoch 65, loss: 2.303303\n",
      "Epoch 66, loss: 2.302972\n"
     ]
    },
    {
     "ename": "KeyboardInterrupt",
     "evalue": "",
     "output_type": "error",
     "traceback": [
      "\u001b[1;31m---------------------------------------------------------------------------\u001b[0m",
      "\u001b[1;31mKeyboardInterrupt\u001b[0m                         Traceback (most recent call last)",
      "\u001b[1;32m<ipython-input-82-e982744194c5>\u001b[0m in \u001b[0;36m<module>\u001b[1;34m()\u001b[0m\n\u001b[0;32m     12\u001b[0m         classifier.fit(train_X, train_y, epochs=num_epochs, \n\u001b[0;32m     13\u001b[0m                        \u001b[0mlearning_rate\u001b[0m\u001b[1;33m=\u001b[0m\u001b[0ml\u001b[0m\u001b[1;33m,\u001b[0m \u001b[0mbatch_size\u001b[0m\u001b[1;33m=\u001b[0m\u001b[0mbatch_size\u001b[0m\u001b[1;33m,\u001b[0m\u001b[1;33m\u001b[0m\u001b[0m\n\u001b[1;32m---> 14\u001b[1;33m                        reg=r)\n\u001b[0m\u001b[0;32m     15\u001b[0m         \u001b[0mpred\u001b[0m \u001b[1;33m=\u001b[0m \u001b[0mclassifier\u001b[0m\u001b[1;33m.\u001b[0m\u001b[0mpredict\u001b[0m\u001b[1;33m(\u001b[0m\u001b[0mval_X\u001b[0m\u001b[1;33m)\u001b[0m\u001b[1;33m\u001b[0m\u001b[0m\n\u001b[0;32m     16\u001b[0m         \u001b[0maccuracy\u001b[0m \u001b[1;33m=\u001b[0m \u001b[0mmulticlass_accuracy\u001b[0m\u001b[1;33m(\u001b[0m\u001b[0mpred\u001b[0m\u001b[1;33m,\u001b[0m \u001b[0mval_y\u001b[0m\u001b[1;33m)\u001b[0m\u001b[1;33m\u001b[0m\u001b[0m\n",
      "\u001b[1;32m~\\ipython\\dlcourse_ai\\assignments\\assignment1\\linear_classifer.py\u001b[0m in \u001b[0;36mfit\u001b[1;34m(self, X, y, batch_size, learning_rate, reg, epochs)\u001b[0m\n\u001b[0;32m    133\u001b[0m                 \u001b[0mx\u001b[0m \u001b[1;33m=\u001b[0m \u001b[0mX\u001b[0m\u001b[1;33m[\u001b[0m\u001b[0mbatch_indices\u001b[0m\u001b[1;33m]\u001b[0m\u001b[1;33m\u001b[0m\u001b[0m\n\u001b[0;32m    134\u001b[0m                 \u001b[0my_batch\u001b[0m \u001b[1;33m=\u001b[0m \u001b[0my\u001b[0m\u001b[1;33m[\u001b[0m\u001b[0mbatch_indices\u001b[0m\u001b[1;33m]\u001b[0m\u001b[1;33m\u001b[0m\u001b[0m\n\u001b[1;32m--> 135\u001b[1;33m                 \u001b[0mloss_x\u001b[0m\u001b[1;33m,\u001b[0m \u001b[0mdW_x\u001b[0m \u001b[1;33m=\u001b[0m \u001b[0mlinear_softmax\u001b[0m\u001b[1;33m(\u001b[0m\u001b[0mx\u001b[0m\u001b[1;33m,\u001b[0m \u001b[0mself\u001b[0m\u001b[1;33m.\u001b[0m\u001b[0mW\u001b[0m\u001b[1;33m,\u001b[0m \u001b[0my_batch\u001b[0m\u001b[1;33m)\u001b[0m\u001b[1;33m\u001b[0m\u001b[0m\n\u001b[0m\u001b[0;32m    136\u001b[0m                 \u001b[0mloss_w\u001b[0m\u001b[1;33m,\u001b[0m \u001b[0mdW_w\u001b[0m \u001b[1;33m=\u001b[0m \u001b[0ml2_regularization\u001b[0m\u001b[1;33m(\u001b[0m\u001b[0mself\u001b[0m\u001b[1;33m.\u001b[0m\u001b[0mW\u001b[0m\u001b[1;33m,\u001b[0m \u001b[0mreg\u001b[0m\u001b[1;33m)\u001b[0m\u001b[1;33m\u001b[0m\u001b[0m\n\u001b[0;32m    137\u001b[0m                 \u001b[0mloss\u001b[0m \u001b[1;33m=\u001b[0m \u001b[0mloss_x\u001b[0m \u001b[1;33m+\u001b[0m \u001b[0mloss_w\u001b[0m\u001b[1;33m\u001b[0m\u001b[0m\n",
      "\u001b[1;32m~\\ipython\\dlcourse_ai\\assignments\\assignment1\\linear_classifer.py\u001b[0m in \u001b[0;36mlinear_softmax\u001b[1;34m(X, W, target_index)\u001b[0m\n\u001b[0;32m     94\u001b[0m \u001b[1;33m\u001b[0m\u001b[0m\n\u001b[0;32m     95\u001b[0m     '''\n\u001b[1;32m---> 96\u001b[1;33m     \u001b[0mpredictions\u001b[0m \u001b[1;33m=\u001b[0m \u001b[0mnp\u001b[0m\u001b[1;33m.\u001b[0m\u001b[0mdot\u001b[0m\u001b[1;33m(\u001b[0m\u001b[0mX\u001b[0m\u001b[1;33m,\u001b[0m \u001b[0mW\u001b[0m\u001b[1;33m)\u001b[0m\u001b[1;33m\u001b[0m\u001b[0m\n\u001b[0m\u001b[0;32m     97\u001b[0m     \u001b[0mloss\u001b[0m\u001b[1;33m,\u001b[0m \u001b[0mdw\u001b[0m \u001b[1;33m=\u001b[0m \u001b[0msoftmax_with_cross_entropy\u001b[0m\u001b[1;33m(\u001b[0m\u001b[0mpredictions\u001b[0m\u001b[1;33m,\u001b[0m \u001b[0mtarget_index\u001b[0m\u001b[1;33m)\u001b[0m\u001b[1;33m\u001b[0m\u001b[0m\n\u001b[0;32m     98\u001b[0m     \u001b[0mdW\u001b[0m \u001b[1;33m=\u001b[0m \u001b[0mnp\u001b[0m\u001b[1;33m.\u001b[0m\u001b[0mdot\u001b[0m\u001b[1;33m(\u001b[0m\u001b[0mnp\u001b[0m\u001b[1;33m.\u001b[0m\u001b[0mtranspose\u001b[0m\u001b[1;33m(\u001b[0m\u001b[0mX\u001b[0m\u001b[1;33m)\u001b[0m\u001b[1;33m,\u001b[0m \u001b[0mdw\u001b[0m\u001b[1;33m)\u001b[0m\u001b[1;33m\u001b[0m\u001b[0m\n",
      "\u001b[1;31mKeyboardInterrupt\u001b[0m: "
     ]
    }
   ],
   "source": [
    "num_epochs = 200\n",
    "batch_size = 300\n",
    "\n",
    "learning_rates = [1e-1, 1e-2, 1e-3, 1e-4, 1e-5]\n",
    "reg_strengths = [1e-1, 1e-2, 1e-3, 1e-4, 1e-5, 1e-6]\n",
    "\n",
    "best_classifier = None\n",
    "best_val_accuracy = None\n",
    "for l in learning_rates:\n",
    "    for r in reg_strengths:\n",
    "        classifier = linear_classifer.LinearSoftmaxClassifier()\n",
    "        classifier.fit(train_X, train_y, epochs=num_epochs, \n",
    "                       learning_rate=l, batch_size=batch_size,\n",
    "                       reg=r)\n",
    "        pred = classifier.predict(val_X)\n",
    "        accuracy = multiclass_accuracy(pred, val_y)\n",
    "        if best_val_accuracy is None or best_val_accuracy<accuracy:\n",
    "            best_classifier = classifier\n",
    "            best_val_accuracy = accuracy\n",
    "# TODO use validation set to find the best hyperparameters\n",
    "# hint: for best results, you might need to try more values for learning rate and regularization strength \n",
    "# than provided initially\n",
    "\n",
    "print('best validation accuracy achieved: %f' % best_val_accuracy)"
   ]
  },
  {
   "cell_type": "markdown",
   "metadata": {},
   "source": [
    "# Какой же точности мы добились на тестовых данных?"
   ]
  },
  {
   "cell_type": "code",
   "execution_count": null,
   "metadata": {},
   "outputs": [],
   "source": [
    "test_pred = best_classifier.predict(test_X)\n",
    "test_accuracy = multiclass_accuracy(test_pred, test_y)\n",
    "print('Linear softmax classifier test set accuracy: %f' % (test_accuracy, ))"
   ]
  }
 ],
 "metadata": {
  "kernelspec": {
   "display_name": "Python 3",
   "language": "python",
   "name": "python3"
  },
  "language_info": {
   "codemirror_mode": {
    "name": "ipython",
    "version": 3
   },
   "file_extension": ".py",
   "mimetype": "text/x-python",
   "name": "python",
   "nbconvert_exporter": "python",
   "pygments_lexer": "ipython3",
   "version": "3.6.5"
  }
 },
 "nbformat": 4,
 "nbformat_minor": 2
}
